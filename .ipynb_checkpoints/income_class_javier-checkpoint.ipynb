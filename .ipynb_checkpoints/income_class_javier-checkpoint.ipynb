{
 "cells": [
  {
   "cell_type": "markdown",
   "metadata": {},
   "source": [
    "# Classifying Income Bracket from Census Data"
   ]
  },
  {
   "cell_type": "markdown",
   "metadata": {},
   "source": [
    "**Prince Joseph Erneszer Javier**\n",
    "<br>MSc Data Science\n",
    "<br>Asian Institute of Management"
   ]
  },
  {
   "cell_type": "markdown",
   "metadata": {},
   "source": [
    "## Executive Summary\n",
    "\n",
    "The dataset prepared by Ronny Kohavi and Barry Becker from a 1994 Census database was used to explore the possibility of predicting whether or not a person earns more than 50,000 USD per year. \n",
    "\n",
    "The dataset was cleaned and prepared for the classification models. The cleaned dataset contain 30,162 rows (observations or samples) and 103 columns (features).\n",
    "\n",
    "Three models were evaluated: k Nearest Neighbors (kNN) Classifier, Logistic Regression, and Linear Support Vector Classification (SVC).\n",
    "\n",
    "For both logistic regression and SVC, the top predictors (though hardly sufficient) are whether or not the person is a professor, or a doctorate degree holder, or a masters degree holder. The proportion of professors, PhD holders, and masters degree holders are higher in the high income class than in the low income class. A possible interpretation here is on the average, the higher the educational attainment, the more likely is the person to earn more than 50,000 USD annually. \n",
    "\n",
    "When running all 103 features, logistic regression was shown to be most accurate and runs fastest. The table below summarizes the accuracies and optimal parameters for the three classification models. The models were run on all features. The minimum target accuracy is 78% (1.25 X PCC) to say that the classifier works.\n",
    "\n",
    "|Model|Model Parameter|Parameter Value|Maximum Ave. Accuracy|\n",
    "|:-:|:-:|:-:|:-:|\n",
    "|kNN|k|8|0.7829|\n",
    "|Logistic Regression|C|0.2347|0.8483|\n",
    "|Linear SVC|C|0.4490|0.8474|\n",
    "\n",
    "Note that because more than 90% of the observations are from the US, the results may not be generalizeable for other populations."
   ]
  },
  {
   "cell_type": "markdown",
   "metadata": {},
   "source": [
    "## Data Description\n",
    "The dataset prepared by Ronny Kohavi and Barry Becker from 1994 Census database contains 15 columns  (14 features and 1 target variable). There are a total of 32,560 observations. The data source is: https://archive.ics.uci.edu/ml/datasets/census+income\n",
    "\n",
    "The features are:\n",
    "\n",
    "1. age\n",
    "* workclass\n",
    "* fnlwgt\n",
    "* education\n",
    "* education-num (dropped in modeling since same as education)\n",
    "* marital-status\n",
    "* occupation\n",
    "* relationship\n",
    "* race \n",
    "* sex\n",
    "* capital-gain \n",
    "* capital-loss\n",
    "* hours-per-week\n",
    "* native-country\n",
    "\n",
    "The target is the annual income, which can either be > 50K USD or <= 50K USD."
   ]
  },
  {
   "cell_type": "markdown",
   "metadata": {},
   "source": [
    "## Functions and Packages\n",
    "Below are the functions and packages that were used for exploratory data analysis and modeling. They were placed into this section first as a single location for all coded functions and second, in order not to crowd the rest of the sections below. \n",
    "\n",
    "#### Python Packages\n",
    "`Numpy` gives a wide array of functionality when dealing with arrays (pun intended). `Matplotlib` allows us to make charts easily. `Pandas` enable us to transform data into tables that are more understandable and transformable. \n",
    "\n",
    "We also import `Counter` that allows us to quickly count the number of unique values in a sequence of values like a list, array, or dictionary. \n",
    "\n",
    "Finally, we import four packages from `sklearn`. `Train_test_split` allows us to split samples in a dataset into test set and training set. Training set is what we feed the classification algorithm, while test set is what we use to test the accuracy of the algorithm. The last three packages are `KNeighborsClassifier`, `LogisticRegression`, and `LinearSVC` which are classification algorithms. These three will be discussed in more detail in the succeeding sections."
   ]
  },
  {
   "cell_type": "code",
   "execution_count": 1,
   "metadata": {
    "ExecuteTime": {
     "end_time": "2018-06-13T18:57:29.428882Z",
     "start_time": "2018-06-13T18:57:28.577849Z"
    }
   },
   "outputs": [],
   "source": [
    "import numpy as np\n",
    "import matplotlib.pyplot as plt\n",
    "%matplotlib inline\n",
    "import pandas as pd\n",
    "\n",
    "from collections import Counter\n",
    "from sklearn.model_selection import train_test_split\n",
    "from sklearn.neighbors import KNeighborsClassifier\n",
    "from sklearn.linear_model import LogisticRegression\n",
    "from sklearn.svm import LinearSVC"
   ]
  },
  {
   "cell_type": "markdown",
   "metadata": {},
   "source": [
    "#### Data Exploration Functions\n",
    "To aid with data exploration, the function `conv_to_numeric` was developed. This function scans through a dataframe and will try to convert the contents to numerical values. If it's unable to convert the contents automatically, it will notify which columns contained non-numeric values and the values that couldn't be converted. This is useful for example if we want to convert \"1500\" encoded as string or text to the number 1500 or to identify \"2000 pesos\" as a value that couldn't be converted. We can then manually change it to 2000."
   ]
  },
  {
   "cell_type": "code",
   "execution_count": 2,
   "metadata": {
    "ExecuteTime": {
     "end_time": "2018-06-13T18:57:29.505973Z",
     "start_time": "2018-06-13T18:57:29.431320Z"
    },
    "scrolled": false
   },
   "outputs": [],
   "source": [
    "# Defining convertion function\n",
    "def conv_to_numeric(df, inds_0):\n",
    "    \"\"\"\n",
    "    Convert all values in dataframe to numeric if possible, otherwise, skip.\n",
    "    Print list of values that cannot be converted and must be converted\n",
    "    manually. Returns new indices of columns that were not completely \n",
    "    converted.\n",
    "\n",
    "    Inputs\n",
    "    ======\n",
    "    df: DataFrame of values to convert\n",
    "    inds_0: List of indices of columns in DataFrame to convert\n",
    "    \"\"\"\n",
    "\n",
    "    # Initial pass: convert to float, ignore data if unconvertable\n",
    "    for i in inds_0:\n",
    "        df.iloc[:, i] = df.iloc[:, i].astype(float, errors='ignore')\n",
    "\n",
    "    # Second pass, show the unconvertable data per feature\n",
    "    inds_1 = []\n",
    "    for i in inds_0:\n",
    "        typ = df.iloc[:, i].dtype\n",
    "        if typ == object:\n",
    "            inds_1.append(i)\n",
    "\n",
    "    print(\"No. of columns that must be changed to numerical:\", len(inds_0))\n",
    "    print(\"No. of columns automatically changed to numbers, 1st pass:\",\n",
    "          len(inds_0) - len(inds_1))\n",
    "\n",
    "    print()\n",
    "    print(\"Remaining columns with values that must be changed to numbers:\")\n",
    "\n",
    "    if len(inds_1) == 0:\n",
    "        print(\"All values numerical already.\")\n",
    "\n",
    "    else:\n",
    "        index = []\n",
    "        cols = []\n",
    "        vals = []\n",
    "        for i in inds_1:\n",
    "            v = df.iloc[:, i][np.logical_not(\n",
    "                (df.iloc[:, i]).str.isnumeric())].values\n",
    "            index.append(i)\n",
    "            cols.append(df.columns[i])\n",
    "            vals.append(v)\n",
    "\n",
    "        index2 = pd.Series(index)\n",
    "        cols2 = pd.Series(cols)\n",
    "        vals2 = pd.Series(vals)\n",
    "\n",
    "        df2 = pd.concat([index2, cols2, vals2], axis=1)\n",
    "        df2.columns = ['Index', 'Names', 'Values']\n",
    "        display(df2)\n",
    "\n",
    "    return inds_1"
   ]
  },
  {
   "cell_type": "markdown",
   "metadata": {},
   "source": [
    "The function `column_non_num` accepts a dataframe and returns the column indices and names of columns that contain non-numerical values. This is useful when looking for columns that are expected to contain numerical data, but still contains non-numerical data. For example, if a column for weights include \"32 kg\", this is read by the computer as non-numerical because of \" kg\". This function will help us more easily generate a list of those columns."
   ]
  },
  {
   "cell_type": "code",
   "execution_count": 3,
   "metadata": {
    "ExecuteTime": {
     "end_time": "2018-06-13T18:57:29.521170Z",
     "start_time": "2018-06-13T18:57:29.508294Z"
    }
   },
   "outputs": [],
   "source": [
    "def column_non_num(df):\n",
    "    \"\"\"\n",
    "    Accept dataframe and print columns with index of columns containing\n",
    "    non-numerical data\n",
    "\n",
    "    Input\n",
    "    =====\n",
    "    df: Dataframe with multiple columns\n",
    "\n",
    "    Returns\n",
    "    =======\n",
    "    List of tuples of indices and columns with non-numerical data\n",
    "    \"\"\"\n",
    "    inds = []\n",
    "    cols = []\n",
    "    for i in range(len(df.columns)):\n",
    "        typ = df.iloc[:, i].dtype\n",
    "        if typ != 'float64' and typ != 'int64':\n",
    "            inds.append(i)\n",
    "            cols.append(df.columns[i])\n",
    "    print(\"No. of columns containing non-numerical data:\", len(inds))\n",
    "\n",
    "    return list(zip(inds, cols))"
   ]
  },
  {
   "cell_type": "markdown",
   "metadata": {},
   "source": [
    "#### Classification Models\n",
    "Below is the function defined for three classification models: k Nearest Neighbors Classifier (kNN), Logistic Regression, and Support Vector Machine (SVM) Classifier. The dataset that will be analyzed is composed of observations or samples with various features and one target variable. The classification models are supervised, which means we know from the start the features and the classifications of the observations we will use to train the models.\n",
    "\n",
    "The general methodology for \"training\" the classification algorithms will be as follows: The datapoints/samples/observations in the dataset will be randomized. Then they will be split into two: training set and test set. The training set will be used to train the classification models while the test set, which the models shouldn't have \"seen\" before will be used to check the models' accuracy. The classification model's objective is to correctly classify a new observation based on its features.\n",
    "\n",
    "The function below can be used to select one of the three classification models, generate a plot of accuracy vs. model parameters, and output a report showing the maximum average accuracy achieved, the standard deviation of accuracy over multiple iterations, the optimal parameters, and the minimum required accuracy (proportional chance criterion)."
   ]
  },
  {
   "cell_type": "code",
   "execution_count": 4,
   "metadata": {
    "ExecuteTime": {
     "end_time": "2018-06-13T18:57:29.851071Z",
     "start_time": "2018-06-13T18:57:29.526258Z"
    }
   },
   "outputs": [],
   "source": [
    "def ml_class(feature, target, ml_type='knn_class', show_PCC=False,\n",
    "             param_range=range(1, 30), seed_settings=range(0, 30),\n",
    "             plot=False, report=True, penalty='l2'):\n",
    "    \"\"\"\n",
    "    Plot accuracy vs parameter for test and training data. Print\n",
    "    maximum accuracy and corresponding parameter value. Print number of trials.\n",
    "\n",
    "    Inputs\n",
    "    ======\n",
    "    feature: Dataframe of features\n",
    "    target: Series of target values\n",
    "    show_PCC: Boolean. will show PCC on plot if True\n",
    "    param_range: Range of values for parameters\n",
    "    seed_settings: Range of seed settings to run\n",
    "    plt: Boolean. Will show plot if True\n",
    "    report: Boolean. Will show report if True\n",
    "    penalty: String either l1 for L1 norm or l2 for L2 norm\n",
    "\n",
    "    Outputs\n",
    "    =======\n",
    "    Plot of accuracy vs parameter for test and training data\n",
    "    Report showing number of maximum accuracy, optimal parameters, PCC, and\n",
    "        no. of iterations\n",
    "    \"\"\"\n",
    "\n",
    "    train_acc = []\n",
    "    test_acc = []\n",
    "\n",
    "    # Initiate counter for number of trials\n",
    "    iterations = 0\n",
    "\n",
    "    # create an array of cols: parameters and rows: seeds\n",
    "    for seed in seed_settings:\n",
    "\n",
    "        # count one trial\n",
    "        iterations += 1\n",
    "\n",
    "        # split data into test and training sets\n",
    "        X_train, X_test, y_train, y_test = train_test_split(feature,\n",
    "                                                            target,\n",
    "                                                            random_state=seed)\n",
    "        train = []\n",
    "        test = []\n",
    "        lasso = []\n",
    "\n",
    "        # make a list of accuracies for different parameters\n",
    "        for param in param_range:\n",
    "            # build the model\n",
    "            if ml_type == 'knn_class':\n",
    "                clf = KNeighborsClassifier(n_neighbors=param)\n",
    "\n",
    "            elif ml_type == 'log_reg':\n",
    "                clf = LogisticRegression(C=param, penalty=penalty)\n",
    "\n",
    "            elif ml_type == 'svc':\n",
    "                clf = LinearSVC(C=param, penalty=penalty, dual=False)\n",
    "\n",
    "            clf.fit(X_train, y_train)\n",
    "\n",
    "            # record training set accuracy\n",
    "            train.append(clf.score(X_train, y_train))\n",
    "            # record generalization accuracy\n",
    "            test.append(clf.score(X_test, y_test))\n",
    "\n",
    "        # append the list to _acc arrays\n",
    "        train_acc.append(train)\n",
    "        test_acc.append(test)\n",
    "\n",
    "    # compute mean and error across columns\n",
    "    train_all = np.mean(train_acc, axis=0)\n",
    "    test_all = np.mean(test_acc, axis=0)\n",
    "\n",
    "    # compute standard deviation\n",
    "    var_train = np.var(train_acc, axis=0)\n",
    "    var_test = np.var(test_acc, axis=0)\n",
    "\n",
    "    # compute pcc\n",
    "    state_counts = Counter(target)\n",
    "    df_state = pd.DataFrame.from_dict(state_counts, orient='index')\n",
    "    num = (df_state[0] / df_state[0].sum())**2\n",
    "    pcc = 1.25 * num.sum()\n",
    "\n",
    "    if plot == True:\n",
    "\n",
    "        # plot train and errors and standard devs\n",
    "        plt.plot(param_range, train_all, c='b',\n",
    "                 label=\"training set\", marker='.')\n",
    "        plt.fill_between(param_range,\n",
    "                         train_all + var_train,\n",
    "                         train_all - var_train,\n",
    "                         color='b', alpha=0.1)\n",
    "\n",
    "        # plot test and errors and standard devs\n",
    "        plt.plot(param_range, test_all, c='r', label=\"test set\", marker='.')\n",
    "        plt.fill_between(param_range,\n",
    "                         test_all + var_test,\n",
    "                         test_all - var_test,\n",
    "                         color='r', alpha=0.1)\n",
    "\n",
    "        # plot pcc line\n",
    "        if show_PCC == True:\n",
    "            plt.plot(param_range, [pcc] * len(param_range),\n",
    "                     c='tab:gray', label=\"pcc\", linestyle='--')\n",
    "\n",
    "        plt.xlabel('Parameter Value')\n",
    "        plt.ylabel('Accuracy')\n",
    "        plt.title(ml_type + \": Accuracy vs Parameter Value\")\n",
    "        plt.legend(loc=0)\n",
    "\n",
    "        plt.tight_layout()\n",
    "        plt.show()\n",
    "\n",
    "    max_inds = np.argsort(test_all)[-1]\n",
    "    acc_max = test_all[max_inds]\n",
    "    param_max = list(param_range)[max_inds]\n",
    "\n",
    "    if report == True:\n",
    "        print('Report:')\n",
    "        print('=======')\n",
    "        print(\"Max average accuracy: {}\".format(\n",
    "            np.round(acc_max, 4)))\n",
    "        print(\"Var of accuracy at optimal parameter: {0:.4f}\".format(\n",
    "            var_test[max_inds]))\n",
    "        print(\"Optimal parameter: {0:.4f}\".format(param_max))\n",
    "        print('1.25 x PCC: {0:.4f}'.format(pcc))\n",
    "        print('Total iterations: {}'.format(iterations))\n",
    "\n",
    "    # return maximum accuracy and corresponding parameter value\n",
    "    return np.round(acc_max, 4), param_max"
   ]
  },
  {
   "cell_type": "markdown",
   "metadata": {},
   "source": [
    "## Exploratory Data Analysis\n",
    "#### Importing Data\n",
    "The dataset is saved in a comma-separated values (csv) file `adult.csv.` The dataset was loaded in a pandas dataframe, `df`, which organizes the data in table form. Each column in the pandas dataframe corresponds to a feature of an observation or sample. For example, one feature is the person's educational background. Meanwhile, the rows represent each observation or sample, which in this case, is each person in the census.\n",
    "\n",
    "The dataset contains 15 columns and 32561 rows or samples."
   ]
  },
  {
   "cell_type": "code",
   "execution_count": 5,
   "metadata": {
    "ExecuteTime": {
     "end_time": "2018-06-13T18:57:29.963348Z",
     "start_time": "2018-06-13T18:57:29.853516Z"
    }
   },
   "outputs": [
    {
     "name": "stdout",
     "output_type": "stream",
     "text": [
      "No. of features/columns in the dataset: 15\n",
      "No. of samples/rows in the dataset: 32561\n",
      "Columns: Int64Index([0, 1, 2, 3, 4, 5, 6, 7, 8, 9, 10, 11, 12, 13, 14], dtype='int64')\n"
     ]
    }
   ],
   "source": [
    "df = pd.read_csv('adult.csv', header=None)\n",
    "df.reset_index()\n",
    "print(\"No. of features/columns in the dataset: {}\".format(df.shape[1]))\n",
    "print(\"No. of samples/rows in the dataset: {}\".format(df.shape[0]))\n",
    "print(\"Columns: {}\".format(df.columns))"
   ]
  },
  {
   "cell_type": "markdown",
   "metadata": {},
   "source": [
    "The column names are numbers because the csv file doesn't contain a header. The header is added using the code below."
   ]
  },
  {
   "cell_type": "code",
   "execution_count": 6,
   "metadata": {
    "ExecuteTime": {
     "end_time": "2018-06-13T18:57:30.018172Z",
     "start_time": "2018-06-13T18:57:29.965913Z"
    },
    "scrolled": false
   },
   "outputs": [
    {
     "name": "stdout",
     "output_type": "stream",
     "text": [
      "Showing the first three rows:\n",
      "==========\n"
     ]
    },
    {
     "data": {
      "text/html": [
       "<div>\n",
       "<style scoped>\n",
       "    .dataframe tbody tr th:only-of-type {\n",
       "        vertical-align: middle;\n",
       "    }\n",
       "\n",
       "    .dataframe tbody tr th {\n",
       "        vertical-align: top;\n",
       "    }\n",
       "\n",
       "    .dataframe thead th {\n",
       "        text-align: right;\n",
       "    }\n",
       "</style>\n",
       "<table border=\"1\" class=\"dataframe\">\n",
       "  <thead>\n",
       "    <tr style=\"text-align: right;\">\n",
       "      <th></th>\n",
       "      <th>age</th>\n",
       "      <th>workclass</th>\n",
       "      <th>fnlwgt</th>\n",
       "      <th>education</th>\n",
       "      <th>education-num</th>\n",
       "      <th>marital-status</th>\n",
       "      <th>occupation</th>\n",
       "      <th>relationship</th>\n",
       "      <th>race</th>\n",
       "      <th>sex</th>\n",
       "      <th>capital-gain</th>\n",
       "      <th>capital-loss</th>\n",
       "      <th>hours-per-week</th>\n",
       "      <th>native-country</th>\n",
       "      <th>target</th>\n",
       "    </tr>\n",
       "  </thead>\n",
       "  <tbody>\n",
       "    <tr>\n",
       "      <th>0</th>\n",
       "      <td>39</td>\n",
       "      <td>State-gov</td>\n",
       "      <td>77516</td>\n",
       "      <td>Bachelors</td>\n",
       "      <td>13</td>\n",
       "      <td>Never-married</td>\n",
       "      <td>Adm-clerical</td>\n",
       "      <td>Not-in-family</td>\n",
       "      <td>White</td>\n",
       "      <td>Male</td>\n",
       "      <td>2174</td>\n",
       "      <td>0</td>\n",
       "      <td>40</td>\n",
       "      <td>United-States</td>\n",
       "      <td>&lt;=50K</td>\n",
       "    </tr>\n",
       "    <tr>\n",
       "      <th>1</th>\n",
       "      <td>50</td>\n",
       "      <td>Self-emp-not-inc</td>\n",
       "      <td>83311</td>\n",
       "      <td>Bachelors</td>\n",
       "      <td>13</td>\n",
       "      <td>Married-civ-spouse</td>\n",
       "      <td>Exec-managerial</td>\n",
       "      <td>Husband</td>\n",
       "      <td>White</td>\n",
       "      <td>Male</td>\n",
       "      <td>0</td>\n",
       "      <td>0</td>\n",
       "      <td>13</td>\n",
       "      <td>United-States</td>\n",
       "      <td>&lt;=50K</td>\n",
       "    </tr>\n",
       "    <tr>\n",
       "      <th>2</th>\n",
       "      <td>38</td>\n",
       "      <td>Private</td>\n",
       "      <td>215646</td>\n",
       "      <td>HS-grad</td>\n",
       "      <td>9</td>\n",
       "      <td>Divorced</td>\n",
       "      <td>Handlers-cleaners</td>\n",
       "      <td>Not-in-family</td>\n",
       "      <td>White</td>\n",
       "      <td>Male</td>\n",
       "      <td>0</td>\n",
       "      <td>0</td>\n",
       "      <td>40</td>\n",
       "      <td>United-States</td>\n",
       "      <td>&lt;=50K</td>\n",
       "    </tr>\n",
       "  </tbody>\n",
       "</table>\n",
       "</div>"
      ],
      "text/plain": [
       "   age          workclass  fnlwgt   education  education-num  \\\n",
       "0   39          State-gov   77516   Bachelors             13   \n",
       "1   50   Self-emp-not-inc   83311   Bachelors             13   \n",
       "2   38            Private  215646     HS-grad              9   \n",
       "\n",
       "        marital-status          occupation    relationship    race    sex  \\\n",
       "0        Never-married        Adm-clerical   Not-in-family   White   Male   \n",
       "1   Married-civ-spouse     Exec-managerial         Husband   White   Male   \n",
       "2             Divorced   Handlers-cleaners   Not-in-family   White   Male   \n",
       "\n",
       "   capital-gain  capital-loss  hours-per-week  native-country  target  \n",
       "0          2174             0              40   United-States   <=50K  \n",
       "1             0             0              13   United-States   <=50K  \n",
       "2             0             0              40   United-States   <=50K  "
      ]
     },
     "metadata": {},
     "output_type": "display_data"
    },
    {
     "name": "stdout",
     "output_type": "stream",
     "text": [
      "\n",
      "Showing the last three rows:\n",
      "==========\n"
     ]
    },
    {
     "data": {
      "text/html": [
       "<div>\n",
       "<style scoped>\n",
       "    .dataframe tbody tr th:only-of-type {\n",
       "        vertical-align: middle;\n",
       "    }\n",
       "\n",
       "    .dataframe tbody tr th {\n",
       "        vertical-align: top;\n",
       "    }\n",
       "\n",
       "    .dataframe thead th {\n",
       "        text-align: right;\n",
       "    }\n",
       "</style>\n",
       "<table border=\"1\" class=\"dataframe\">\n",
       "  <thead>\n",
       "    <tr style=\"text-align: right;\">\n",
       "      <th></th>\n",
       "      <th>age</th>\n",
       "      <th>workclass</th>\n",
       "      <th>fnlwgt</th>\n",
       "      <th>education</th>\n",
       "      <th>education-num</th>\n",
       "      <th>marital-status</th>\n",
       "      <th>occupation</th>\n",
       "      <th>relationship</th>\n",
       "      <th>race</th>\n",
       "      <th>sex</th>\n",
       "      <th>capital-gain</th>\n",
       "      <th>capital-loss</th>\n",
       "      <th>hours-per-week</th>\n",
       "      <th>native-country</th>\n",
       "      <th>target</th>\n",
       "    </tr>\n",
       "  </thead>\n",
       "  <tbody>\n",
       "    <tr>\n",
       "      <th>32558</th>\n",
       "      <td>58</td>\n",
       "      <td>Private</td>\n",
       "      <td>151910</td>\n",
       "      <td>HS-grad</td>\n",
       "      <td>9</td>\n",
       "      <td>Widowed</td>\n",
       "      <td>Adm-clerical</td>\n",
       "      <td>Unmarried</td>\n",
       "      <td>White</td>\n",
       "      <td>Female</td>\n",
       "      <td>0</td>\n",
       "      <td>0</td>\n",
       "      <td>40</td>\n",
       "      <td>United-States</td>\n",
       "      <td>&lt;=50K</td>\n",
       "    </tr>\n",
       "    <tr>\n",
       "      <th>32559</th>\n",
       "      <td>22</td>\n",
       "      <td>Private</td>\n",
       "      <td>201490</td>\n",
       "      <td>HS-grad</td>\n",
       "      <td>9</td>\n",
       "      <td>Never-married</td>\n",
       "      <td>Adm-clerical</td>\n",
       "      <td>Own-child</td>\n",
       "      <td>White</td>\n",
       "      <td>Male</td>\n",
       "      <td>0</td>\n",
       "      <td>0</td>\n",
       "      <td>20</td>\n",
       "      <td>United-States</td>\n",
       "      <td>&lt;=50K</td>\n",
       "    </tr>\n",
       "    <tr>\n",
       "      <th>32560</th>\n",
       "      <td>52</td>\n",
       "      <td>Self-emp-inc</td>\n",
       "      <td>287927</td>\n",
       "      <td>HS-grad</td>\n",
       "      <td>9</td>\n",
       "      <td>Married-civ-spouse</td>\n",
       "      <td>Exec-managerial</td>\n",
       "      <td>Wife</td>\n",
       "      <td>White</td>\n",
       "      <td>Female</td>\n",
       "      <td>15024</td>\n",
       "      <td>0</td>\n",
       "      <td>40</td>\n",
       "      <td>United-States</td>\n",
       "      <td>&gt;50K</td>\n",
       "    </tr>\n",
       "  </tbody>\n",
       "</table>\n",
       "</div>"
      ],
      "text/plain": [
       "       age      workclass  fnlwgt education  education-num  \\\n",
       "32558   58        Private  151910   HS-grad              9   \n",
       "32559   22        Private  201490   HS-grad              9   \n",
       "32560   52   Self-emp-inc  287927   HS-grad              9   \n",
       "\n",
       "            marital-status        occupation relationship    race      sex  \\\n",
       "32558              Widowed      Adm-clerical    Unmarried   White   Female   \n",
       "32559        Never-married      Adm-clerical    Own-child   White     Male   \n",
       "32560   Married-civ-spouse   Exec-managerial         Wife   White   Female   \n",
       "\n",
       "       capital-gain  capital-loss  hours-per-week  native-country  target  \n",
       "32558             0             0              40   United-States   <=50K  \n",
       "32559             0             0              20   United-States   <=50K  \n",
       "32560         15024             0              40   United-States    >50K  "
      ]
     },
     "metadata": {},
     "output_type": "display_data"
    }
   ],
   "source": [
    "columns = ['age', 'workclass', 'fnlwgt', 'education', 'education-num',\n",
    "           'marital-status', 'occupation', 'relationship', 'race', 'sex',\n",
    "           'capital-gain', 'capital-loss', 'hours-per-week', 'native-country',\n",
    "           'target']\n",
    "\n",
    "df.columns = columns\n",
    "print(\"Showing the first three rows:\")\n",
    "print(\"==========\")\n",
    "display(df.head(3))\n",
    "\n",
    "print()\n",
    "print(\"Showing the last three rows:\")\n",
    "print(\"==========\")\n",
    "display(df.tail(3))"
   ]
  },
  {
   "cell_type": "markdown",
   "metadata": {},
   "source": [
    "#### Cleaning the Data"
   ]
  },
  {
   "cell_type": "markdown",
   "metadata": {},
   "source": [
    "There are no null values in the dataset. And the numerical categories correctly contain numerical values, in int64 format."
   ]
  },
  {
   "cell_type": "code",
   "execution_count": 7,
   "metadata": {
    "ExecuteTime": {
     "end_time": "2018-06-13T18:57:30.083268Z",
     "start_time": "2018-06-13T18:57:30.020838Z"
    }
   },
   "outputs": [
    {
     "name": "stdout",
     "output_type": "stream",
     "text": [
      "<class 'pandas.core.frame.DataFrame'>\n",
      "RangeIndex: 32561 entries, 0 to 32560\n",
      "Data columns (total 15 columns):\n",
      "age               32561 non-null int64\n",
      "workclass         32561 non-null object\n",
      "fnlwgt            32561 non-null int64\n",
      "education         32561 non-null object\n",
      "education-num     32561 non-null int64\n",
      "marital-status    32561 non-null object\n",
      "occupation        32561 non-null object\n",
      "relationship      32561 non-null object\n",
      "race              32561 non-null object\n",
      "sex               32561 non-null object\n",
      "capital-gain      32561 non-null int64\n",
      "capital-loss      32561 non-null int64\n",
      "hours-per-week    32561 non-null int64\n",
      "native-country    32561 non-null object\n",
      "target            32561 non-null object\n",
      "dtypes: int64(6), object(9)\n",
      "memory usage: 3.7+ MB\n",
      "\n",
      "No. of columns with null: 0\n",
      "===========\n"
     ]
    }
   ],
   "source": [
    "df.info()\n",
    "\n",
    "print()\n",
    "a = np.sum([df.isnull().any()])\n",
    "\n",
    "print(\"No. of columns with null: {}\".format(a))\n",
    "print(\"===========\")"
   ]
  },
  {
   "cell_type": "markdown",
   "metadata": {},
   "source": [
    "The categorical variables are clean. There are no mispellings and all datapoints fit in the designated categories. However, some entries in `workclass`, `occupation`, and `native country` are unknown and are entered with \" ?\". There are a total of 2399 rows with at least one unknown feature. This is equivalent to 7% of all the total features, and removing them might be more beneficial than retaining them, in order to keep the dataset clean."
   ]
  },
  {
   "cell_type": "code",
   "execution_count": 8,
   "metadata": {
    "ExecuteTime": {
     "end_time": "2018-06-13T18:57:30.283106Z",
     "start_time": "2018-06-13T18:57:30.086062Z"
    },
    "scrolled": true
   },
   "outputs": [
    {
     "name": "stdout",
     "output_type": "stream",
     "text": [
      "No. of columns containing non-numerical data: 9\n",
      "Column Index: 1\n",
      "Column Name: workclass\n"
     ]
    },
    {
     "data": {
      "text/html": [
       "<div>\n",
       "<style scoped>\n",
       "    .dataframe tbody tr th:only-of-type {\n",
       "        vertical-align: middle;\n",
       "    }\n",
       "\n",
       "    .dataframe tbody tr th {\n",
       "        vertical-align: top;\n",
       "    }\n",
       "\n",
       "    .dataframe thead th {\n",
       "        text-align: right;\n",
       "    }\n",
       "</style>\n",
       "<table border=\"1\" class=\"dataframe\">\n",
       "  <thead>\n",
       "    <tr style=\"text-align: right;\">\n",
       "      <th></th>\n",
       "      <th>Counts</th>\n",
       "      <th>Answer</th>\n",
       "    </tr>\n",
       "  </thead>\n",
       "  <tbody>\n",
       "    <tr>\n",
       "      <th>0</th>\n",
       "      <td>22696</td>\n",
       "      <td>Private</td>\n",
       "    </tr>\n",
       "    <tr>\n",
       "      <th>1</th>\n",
       "      <td>2541</td>\n",
       "      <td>Self-emp-not-inc</td>\n",
       "    </tr>\n",
       "    <tr>\n",
       "      <th>2</th>\n",
       "      <td>2093</td>\n",
       "      <td>Local-gov</td>\n",
       "    </tr>\n",
       "    <tr>\n",
       "      <th>3</th>\n",
       "      <td>1836</td>\n",
       "      <td>?</td>\n",
       "    </tr>\n",
       "    <tr>\n",
       "      <th>4</th>\n",
       "      <td>1298</td>\n",
       "      <td>State-gov</td>\n",
       "    </tr>\n",
       "    <tr>\n",
       "      <th>5</th>\n",
       "      <td>1116</td>\n",
       "      <td>Self-emp-inc</td>\n",
       "    </tr>\n",
       "    <tr>\n",
       "      <th>6</th>\n",
       "      <td>960</td>\n",
       "      <td>Federal-gov</td>\n",
       "    </tr>\n",
       "    <tr>\n",
       "      <th>7</th>\n",
       "      <td>14</td>\n",
       "      <td>Without-pay</td>\n",
       "    </tr>\n",
       "    <tr>\n",
       "      <th>8</th>\n",
       "      <td>7</td>\n",
       "      <td>Never-worked</td>\n",
       "    </tr>\n",
       "  </tbody>\n",
       "</table>\n",
       "</div>"
      ],
      "text/plain": [
       "   Counts             Answer\n",
       "0   22696            Private\n",
       "1    2541   Self-emp-not-inc\n",
       "2    2093          Local-gov\n",
       "3    1836                  ?\n",
       "4    1298          State-gov\n",
       "5    1116       Self-emp-inc\n",
       "6     960        Federal-gov\n",
       "7      14        Without-pay\n",
       "8       7       Never-worked"
      ]
     },
     "metadata": {},
     "output_type": "display_data"
    },
    {
     "name": "stdout",
     "output_type": "stream",
     "text": [
      "Column Index: 3\n",
      "Column Name: education\n"
     ]
    },
    {
     "data": {
      "text/html": [
       "<div>\n",
       "<style scoped>\n",
       "    .dataframe tbody tr th:only-of-type {\n",
       "        vertical-align: middle;\n",
       "    }\n",
       "\n",
       "    .dataframe tbody tr th {\n",
       "        vertical-align: top;\n",
       "    }\n",
       "\n",
       "    .dataframe thead th {\n",
       "        text-align: right;\n",
       "    }\n",
       "</style>\n",
       "<table border=\"1\" class=\"dataframe\">\n",
       "  <thead>\n",
       "    <tr style=\"text-align: right;\">\n",
       "      <th></th>\n",
       "      <th>Counts</th>\n",
       "      <th>Answer</th>\n",
       "    </tr>\n",
       "  </thead>\n",
       "  <tbody>\n",
       "    <tr>\n",
       "      <th>0</th>\n",
       "      <td>10501</td>\n",
       "      <td>HS-grad</td>\n",
       "    </tr>\n",
       "    <tr>\n",
       "      <th>1</th>\n",
       "      <td>7291</td>\n",
       "      <td>Some-college</td>\n",
       "    </tr>\n",
       "    <tr>\n",
       "      <th>2</th>\n",
       "      <td>5355</td>\n",
       "      <td>Bachelors</td>\n",
       "    </tr>\n",
       "    <tr>\n",
       "      <th>3</th>\n",
       "      <td>1723</td>\n",
       "      <td>Masters</td>\n",
       "    </tr>\n",
       "    <tr>\n",
       "      <th>4</th>\n",
       "      <td>1382</td>\n",
       "      <td>Assoc-voc</td>\n",
       "    </tr>\n",
       "    <tr>\n",
       "      <th>5</th>\n",
       "      <td>1175</td>\n",
       "      <td>11th</td>\n",
       "    </tr>\n",
       "    <tr>\n",
       "      <th>6</th>\n",
       "      <td>1067</td>\n",
       "      <td>Assoc-acdm</td>\n",
       "    </tr>\n",
       "    <tr>\n",
       "      <th>7</th>\n",
       "      <td>933</td>\n",
       "      <td>10th</td>\n",
       "    </tr>\n",
       "    <tr>\n",
       "      <th>8</th>\n",
       "      <td>646</td>\n",
       "      <td>7th-8th</td>\n",
       "    </tr>\n",
       "    <tr>\n",
       "      <th>9</th>\n",
       "      <td>576</td>\n",
       "      <td>Prof-school</td>\n",
       "    </tr>\n",
       "    <tr>\n",
       "      <th>10</th>\n",
       "      <td>514</td>\n",
       "      <td>9th</td>\n",
       "    </tr>\n",
       "    <tr>\n",
       "      <th>11</th>\n",
       "      <td>433</td>\n",
       "      <td>12th</td>\n",
       "    </tr>\n",
       "    <tr>\n",
       "      <th>12</th>\n",
       "      <td>413</td>\n",
       "      <td>Doctorate</td>\n",
       "    </tr>\n",
       "    <tr>\n",
       "      <th>13</th>\n",
       "      <td>333</td>\n",
       "      <td>5th-6th</td>\n",
       "    </tr>\n",
       "    <tr>\n",
       "      <th>14</th>\n",
       "      <td>168</td>\n",
       "      <td>1st-4th</td>\n",
       "    </tr>\n",
       "    <tr>\n",
       "      <th>15</th>\n",
       "      <td>51</td>\n",
       "      <td>Preschool</td>\n",
       "    </tr>\n",
       "  </tbody>\n",
       "</table>\n",
       "</div>"
      ],
      "text/plain": [
       "    Counts         Answer\n",
       "0    10501        HS-grad\n",
       "1     7291   Some-college\n",
       "2     5355      Bachelors\n",
       "3     1723        Masters\n",
       "4     1382      Assoc-voc\n",
       "5     1175           11th\n",
       "6     1067     Assoc-acdm\n",
       "7      933           10th\n",
       "8      646        7th-8th\n",
       "9      576    Prof-school\n",
       "10     514            9th\n",
       "11     433           12th\n",
       "12     413      Doctorate\n",
       "13     333        5th-6th\n",
       "14     168        1st-4th\n",
       "15      51      Preschool"
      ]
     },
     "metadata": {},
     "output_type": "display_data"
    },
    {
     "name": "stdout",
     "output_type": "stream",
     "text": [
      "Column Index: 5\n",
      "Column Name: marital-status\n"
     ]
    },
    {
     "data": {
      "text/html": [
       "<div>\n",
       "<style scoped>\n",
       "    .dataframe tbody tr th:only-of-type {\n",
       "        vertical-align: middle;\n",
       "    }\n",
       "\n",
       "    .dataframe tbody tr th {\n",
       "        vertical-align: top;\n",
       "    }\n",
       "\n",
       "    .dataframe thead th {\n",
       "        text-align: right;\n",
       "    }\n",
       "</style>\n",
       "<table border=\"1\" class=\"dataframe\">\n",
       "  <thead>\n",
       "    <tr style=\"text-align: right;\">\n",
       "      <th></th>\n",
       "      <th>Counts</th>\n",
       "      <th>Answer</th>\n",
       "    </tr>\n",
       "  </thead>\n",
       "  <tbody>\n",
       "    <tr>\n",
       "      <th>0</th>\n",
       "      <td>14976</td>\n",
       "      <td>Married-civ-spouse</td>\n",
       "    </tr>\n",
       "    <tr>\n",
       "      <th>1</th>\n",
       "      <td>10683</td>\n",
       "      <td>Never-married</td>\n",
       "    </tr>\n",
       "    <tr>\n",
       "      <th>2</th>\n",
       "      <td>4443</td>\n",
       "      <td>Divorced</td>\n",
       "    </tr>\n",
       "    <tr>\n",
       "      <th>3</th>\n",
       "      <td>1025</td>\n",
       "      <td>Separated</td>\n",
       "    </tr>\n",
       "    <tr>\n",
       "      <th>4</th>\n",
       "      <td>993</td>\n",
       "      <td>Widowed</td>\n",
       "    </tr>\n",
       "    <tr>\n",
       "      <th>5</th>\n",
       "      <td>418</td>\n",
       "      <td>Married-spouse-absent</td>\n",
       "    </tr>\n",
       "    <tr>\n",
       "      <th>6</th>\n",
       "      <td>23</td>\n",
       "      <td>Married-AF-spouse</td>\n",
       "    </tr>\n",
       "  </tbody>\n",
       "</table>\n",
       "</div>"
      ],
      "text/plain": [
       "   Counts                  Answer\n",
       "0   14976      Married-civ-spouse\n",
       "1   10683           Never-married\n",
       "2    4443                Divorced\n",
       "3    1025               Separated\n",
       "4     993                 Widowed\n",
       "5     418   Married-spouse-absent\n",
       "6      23       Married-AF-spouse"
      ]
     },
     "metadata": {},
     "output_type": "display_data"
    },
    {
     "name": "stdout",
     "output_type": "stream",
     "text": [
      "Column Index: 6\n",
      "Column Name: occupation\n"
     ]
    },
    {
     "data": {
      "text/html": [
       "<div>\n",
       "<style scoped>\n",
       "    .dataframe tbody tr th:only-of-type {\n",
       "        vertical-align: middle;\n",
       "    }\n",
       "\n",
       "    .dataframe tbody tr th {\n",
       "        vertical-align: top;\n",
       "    }\n",
       "\n",
       "    .dataframe thead th {\n",
       "        text-align: right;\n",
       "    }\n",
       "</style>\n",
       "<table border=\"1\" class=\"dataframe\">\n",
       "  <thead>\n",
       "    <tr style=\"text-align: right;\">\n",
       "      <th></th>\n",
       "      <th>Counts</th>\n",
       "      <th>Answer</th>\n",
       "    </tr>\n",
       "  </thead>\n",
       "  <tbody>\n",
       "    <tr>\n",
       "      <th>0</th>\n",
       "      <td>4140</td>\n",
       "      <td>Prof-specialty</td>\n",
       "    </tr>\n",
       "    <tr>\n",
       "      <th>1</th>\n",
       "      <td>4099</td>\n",
       "      <td>Craft-repair</td>\n",
       "    </tr>\n",
       "    <tr>\n",
       "      <th>2</th>\n",
       "      <td>4066</td>\n",
       "      <td>Exec-managerial</td>\n",
       "    </tr>\n",
       "    <tr>\n",
       "      <th>3</th>\n",
       "      <td>3770</td>\n",
       "      <td>Adm-clerical</td>\n",
       "    </tr>\n",
       "    <tr>\n",
       "      <th>4</th>\n",
       "      <td>3650</td>\n",
       "      <td>Sales</td>\n",
       "    </tr>\n",
       "    <tr>\n",
       "      <th>5</th>\n",
       "      <td>3295</td>\n",
       "      <td>Other-service</td>\n",
       "    </tr>\n",
       "    <tr>\n",
       "      <th>6</th>\n",
       "      <td>2002</td>\n",
       "      <td>Machine-op-inspct</td>\n",
       "    </tr>\n",
       "    <tr>\n",
       "      <th>7</th>\n",
       "      <td>1843</td>\n",
       "      <td>?</td>\n",
       "    </tr>\n",
       "    <tr>\n",
       "      <th>8</th>\n",
       "      <td>1597</td>\n",
       "      <td>Transport-moving</td>\n",
       "    </tr>\n",
       "    <tr>\n",
       "      <th>9</th>\n",
       "      <td>1370</td>\n",
       "      <td>Handlers-cleaners</td>\n",
       "    </tr>\n",
       "    <tr>\n",
       "      <th>10</th>\n",
       "      <td>994</td>\n",
       "      <td>Farming-fishing</td>\n",
       "    </tr>\n",
       "    <tr>\n",
       "      <th>11</th>\n",
       "      <td>928</td>\n",
       "      <td>Tech-support</td>\n",
       "    </tr>\n",
       "    <tr>\n",
       "      <th>12</th>\n",
       "      <td>649</td>\n",
       "      <td>Protective-serv</td>\n",
       "    </tr>\n",
       "    <tr>\n",
       "      <th>13</th>\n",
       "      <td>149</td>\n",
       "      <td>Priv-house-serv</td>\n",
       "    </tr>\n",
       "    <tr>\n",
       "      <th>14</th>\n",
       "      <td>9</td>\n",
       "      <td>Armed-Forces</td>\n",
       "    </tr>\n",
       "  </tbody>\n",
       "</table>\n",
       "</div>"
      ],
      "text/plain": [
       "    Counts              Answer\n",
       "0     4140      Prof-specialty\n",
       "1     4099        Craft-repair\n",
       "2     4066     Exec-managerial\n",
       "3     3770        Adm-clerical\n",
       "4     3650               Sales\n",
       "5     3295       Other-service\n",
       "6     2002   Machine-op-inspct\n",
       "7     1843                   ?\n",
       "8     1597    Transport-moving\n",
       "9     1370   Handlers-cleaners\n",
       "10     994     Farming-fishing\n",
       "11     928        Tech-support\n",
       "12     649     Protective-serv\n",
       "13     149     Priv-house-serv\n",
       "14       9        Armed-Forces"
      ]
     },
     "metadata": {},
     "output_type": "display_data"
    },
    {
     "name": "stdout",
     "output_type": "stream",
     "text": [
      "Column Index: 7\n",
      "Column Name: relationship\n"
     ]
    },
    {
     "data": {
      "text/html": [
       "<div>\n",
       "<style scoped>\n",
       "    .dataframe tbody tr th:only-of-type {\n",
       "        vertical-align: middle;\n",
       "    }\n",
       "\n",
       "    .dataframe tbody tr th {\n",
       "        vertical-align: top;\n",
       "    }\n",
       "\n",
       "    .dataframe thead th {\n",
       "        text-align: right;\n",
       "    }\n",
       "</style>\n",
       "<table border=\"1\" class=\"dataframe\">\n",
       "  <thead>\n",
       "    <tr style=\"text-align: right;\">\n",
       "      <th></th>\n",
       "      <th>Counts</th>\n",
       "      <th>Answer</th>\n",
       "    </tr>\n",
       "  </thead>\n",
       "  <tbody>\n",
       "    <tr>\n",
       "      <th>0</th>\n",
       "      <td>13193</td>\n",
       "      <td>Husband</td>\n",
       "    </tr>\n",
       "    <tr>\n",
       "      <th>1</th>\n",
       "      <td>8305</td>\n",
       "      <td>Not-in-family</td>\n",
       "    </tr>\n",
       "    <tr>\n",
       "      <th>2</th>\n",
       "      <td>5068</td>\n",
       "      <td>Own-child</td>\n",
       "    </tr>\n",
       "    <tr>\n",
       "      <th>3</th>\n",
       "      <td>3446</td>\n",
       "      <td>Unmarried</td>\n",
       "    </tr>\n",
       "    <tr>\n",
       "      <th>4</th>\n",
       "      <td>1568</td>\n",
       "      <td>Wife</td>\n",
       "    </tr>\n",
       "    <tr>\n",
       "      <th>5</th>\n",
       "      <td>981</td>\n",
       "      <td>Other-relative</td>\n",
       "    </tr>\n",
       "  </tbody>\n",
       "</table>\n",
       "</div>"
      ],
      "text/plain": [
       "   Counts           Answer\n",
       "0   13193          Husband\n",
       "1    8305    Not-in-family\n",
       "2    5068        Own-child\n",
       "3    3446        Unmarried\n",
       "4    1568             Wife\n",
       "5     981   Other-relative"
      ]
     },
     "metadata": {},
     "output_type": "display_data"
    },
    {
     "name": "stdout",
     "output_type": "stream",
     "text": [
      "Column Index: 8\n",
      "Column Name: race\n"
     ]
    },
    {
     "data": {
      "text/html": [
       "<div>\n",
       "<style scoped>\n",
       "    .dataframe tbody tr th:only-of-type {\n",
       "        vertical-align: middle;\n",
       "    }\n",
       "\n",
       "    .dataframe tbody tr th {\n",
       "        vertical-align: top;\n",
       "    }\n",
       "\n",
       "    .dataframe thead th {\n",
       "        text-align: right;\n",
       "    }\n",
       "</style>\n",
       "<table border=\"1\" class=\"dataframe\">\n",
       "  <thead>\n",
       "    <tr style=\"text-align: right;\">\n",
       "      <th></th>\n",
       "      <th>Counts</th>\n",
       "      <th>Answer</th>\n",
       "    </tr>\n",
       "  </thead>\n",
       "  <tbody>\n",
       "    <tr>\n",
       "      <th>0</th>\n",
       "      <td>27816</td>\n",
       "      <td>White</td>\n",
       "    </tr>\n",
       "    <tr>\n",
       "      <th>1</th>\n",
       "      <td>3124</td>\n",
       "      <td>Black</td>\n",
       "    </tr>\n",
       "    <tr>\n",
       "      <th>2</th>\n",
       "      <td>1039</td>\n",
       "      <td>Asian-Pac-Islander</td>\n",
       "    </tr>\n",
       "    <tr>\n",
       "      <th>3</th>\n",
       "      <td>311</td>\n",
       "      <td>Amer-Indian-Eskimo</td>\n",
       "    </tr>\n",
       "    <tr>\n",
       "      <th>4</th>\n",
       "      <td>271</td>\n",
       "      <td>Other</td>\n",
       "    </tr>\n",
       "  </tbody>\n",
       "</table>\n",
       "</div>"
      ],
      "text/plain": [
       "   Counts               Answer\n",
       "0   27816                White\n",
       "1    3124                Black\n",
       "2    1039   Asian-Pac-Islander\n",
       "3     311   Amer-Indian-Eskimo\n",
       "4     271                Other"
      ]
     },
     "metadata": {},
     "output_type": "display_data"
    },
    {
     "name": "stdout",
     "output_type": "stream",
     "text": [
      "Column Index: 9\n",
      "Column Name: sex\n"
     ]
    },
    {
     "data": {
      "text/html": [
       "<div>\n",
       "<style scoped>\n",
       "    .dataframe tbody tr th:only-of-type {\n",
       "        vertical-align: middle;\n",
       "    }\n",
       "\n",
       "    .dataframe tbody tr th {\n",
       "        vertical-align: top;\n",
       "    }\n",
       "\n",
       "    .dataframe thead th {\n",
       "        text-align: right;\n",
       "    }\n",
       "</style>\n",
       "<table border=\"1\" class=\"dataframe\">\n",
       "  <thead>\n",
       "    <tr style=\"text-align: right;\">\n",
       "      <th></th>\n",
       "      <th>Counts</th>\n",
       "      <th>Answer</th>\n",
       "    </tr>\n",
       "  </thead>\n",
       "  <tbody>\n",
       "    <tr>\n",
       "      <th>0</th>\n",
       "      <td>21790</td>\n",
       "      <td>Male</td>\n",
       "    </tr>\n",
       "    <tr>\n",
       "      <th>1</th>\n",
       "      <td>10771</td>\n",
       "      <td>Female</td>\n",
       "    </tr>\n",
       "  </tbody>\n",
       "</table>\n",
       "</div>"
      ],
      "text/plain": [
       "   Counts   Answer\n",
       "0   21790     Male\n",
       "1   10771   Female"
      ]
     },
     "metadata": {},
     "output_type": "display_data"
    },
    {
     "name": "stdout",
     "output_type": "stream",
     "text": [
      "Column Index: 13\n",
      "Column Name: native-country\n"
     ]
    },
    {
     "data": {
      "text/html": [
       "<div>\n",
       "<style scoped>\n",
       "    .dataframe tbody tr th:only-of-type {\n",
       "        vertical-align: middle;\n",
       "    }\n",
       "\n",
       "    .dataframe tbody tr th {\n",
       "        vertical-align: top;\n",
       "    }\n",
       "\n",
       "    .dataframe thead th {\n",
       "        text-align: right;\n",
       "    }\n",
       "</style>\n",
       "<table border=\"1\" class=\"dataframe\">\n",
       "  <thead>\n",
       "    <tr style=\"text-align: right;\">\n",
       "      <th></th>\n",
       "      <th>Counts</th>\n",
       "      <th>Answer</th>\n",
       "    </tr>\n",
       "  </thead>\n",
       "  <tbody>\n",
       "    <tr>\n",
       "      <th>0</th>\n",
       "      <td>29170</td>\n",
       "      <td>United-States</td>\n",
       "    </tr>\n",
       "    <tr>\n",
       "      <th>1</th>\n",
       "      <td>643</td>\n",
       "      <td>Mexico</td>\n",
       "    </tr>\n",
       "    <tr>\n",
       "      <th>2</th>\n",
       "      <td>583</td>\n",
       "      <td>?</td>\n",
       "    </tr>\n",
       "    <tr>\n",
       "      <th>3</th>\n",
       "      <td>198</td>\n",
       "      <td>Philippines</td>\n",
       "    </tr>\n",
       "    <tr>\n",
       "      <th>4</th>\n",
       "      <td>137</td>\n",
       "      <td>Germany</td>\n",
       "    </tr>\n",
       "    <tr>\n",
       "      <th>5</th>\n",
       "      <td>121</td>\n",
       "      <td>Canada</td>\n",
       "    </tr>\n",
       "    <tr>\n",
       "      <th>6</th>\n",
       "      <td>114</td>\n",
       "      <td>Puerto-Rico</td>\n",
       "    </tr>\n",
       "    <tr>\n",
       "      <th>7</th>\n",
       "      <td>106</td>\n",
       "      <td>El-Salvador</td>\n",
       "    </tr>\n",
       "    <tr>\n",
       "      <th>8</th>\n",
       "      <td>100</td>\n",
       "      <td>India</td>\n",
       "    </tr>\n",
       "    <tr>\n",
       "      <th>9</th>\n",
       "      <td>95</td>\n",
       "      <td>Cuba</td>\n",
       "    </tr>\n",
       "    <tr>\n",
       "      <th>10</th>\n",
       "      <td>90</td>\n",
       "      <td>England</td>\n",
       "    </tr>\n",
       "    <tr>\n",
       "      <th>11</th>\n",
       "      <td>81</td>\n",
       "      <td>Jamaica</td>\n",
       "    </tr>\n",
       "    <tr>\n",
       "      <th>12</th>\n",
       "      <td>80</td>\n",
       "      <td>South</td>\n",
       "    </tr>\n",
       "    <tr>\n",
       "      <th>13</th>\n",
       "      <td>75</td>\n",
       "      <td>China</td>\n",
       "    </tr>\n",
       "    <tr>\n",
       "      <th>14</th>\n",
       "      <td>73</td>\n",
       "      <td>Italy</td>\n",
       "    </tr>\n",
       "    <tr>\n",
       "      <th>15</th>\n",
       "      <td>70</td>\n",
       "      <td>Dominican-Republic</td>\n",
       "    </tr>\n",
       "    <tr>\n",
       "      <th>16</th>\n",
       "      <td>67</td>\n",
       "      <td>Vietnam</td>\n",
       "    </tr>\n",
       "    <tr>\n",
       "      <th>17</th>\n",
       "      <td>64</td>\n",
       "      <td>Guatemala</td>\n",
       "    </tr>\n",
       "    <tr>\n",
       "      <th>18</th>\n",
       "      <td>62</td>\n",
       "      <td>Japan</td>\n",
       "    </tr>\n",
       "    <tr>\n",
       "      <th>19</th>\n",
       "      <td>60</td>\n",
       "      <td>Poland</td>\n",
       "    </tr>\n",
       "    <tr>\n",
       "      <th>20</th>\n",
       "      <td>59</td>\n",
       "      <td>Columbia</td>\n",
       "    </tr>\n",
       "    <tr>\n",
       "      <th>21</th>\n",
       "      <td>51</td>\n",
       "      <td>Taiwan</td>\n",
       "    </tr>\n",
       "    <tr>\n",
       "      <th>22</th>\n",
       "      <td>44</td>\n",
       "      <td>Haiti</td>\n",
       "    </tr>\n",
       "    <tr>\n",
       "      <th>23</th>\n",
       "      <td>43</td>\n",
       "      <td>Iran</td>\n",
       "    </tr>\n",
       "    <tr>\n",
       "      <th>24</th>\n",
       "      <td>37</td>\n",
       "      <td>Portugal</td>\n",
       "    </tr>\n",
       "    <tr>\n",
       "      <th>25</th>\n",
       "      <td>34</td>\n",
       "      <td>Nicaragua</td>\n",
       "    </tr>\n",
       "    <tr>\n",
       "      <th>26</th>\n",
       "      <td>31</td>\n",
       "      <td>Peru</td>\n",
       "    </tr>\n",
       "    <tr>\n",
       "      <th>27</th>\n",
       "      <td>29</td>\n",
       "      <td>Greece</td>\n",
       "    </tr>\n",
       "    <tr>\n",
       "      <th>28</th>\n",
       "      <td>29</td>\n",
       "      <td>France</td>\n",
       "    </tr>\n",
       "    <tr>\n",
       "      <th>29</th>\n",
       "      <td>28</td>\n",
       "      <td>Ecuador</td>\n",
       "    </tr>\n",
       "    <tr>\n",
       "      <th>30</th>\n",
       "      <td>24</td>\n",
       "      <td>Ireland</td>\n",
       "    </tr>\n",
       "    <tr>\n",
       "      <th>31</th>\n",
       "      <td>20</td>\n",
       "      <td>Hong</td>\n",
       "    </tr>\n",
       "    <tr>\n",
       "      <th>32</th>\n",
       "      <td>19</td>\n",
       "      <td>Cambodia</td>\n",
       "    </tr>\n",
       "    <tr>\n",
       "      <th>33</th>\n",
       "      <td>19</td>\n",
       "      <td>Trinadad&amp;Tobago</td>\n",
       "    </tr>\n",
       "    <tr>\n",
       "      <th>34</th>\n",
       "      <td>18</td>\n",
       "      <td>Laos</td>\n",
       "    </tr>\n",
       "    <tr>\n",
       "      <th>35</th>\n",
       "      <td>18</td>\n",
       "      <td>Thailand</td>\n",
       "    </tr>\n",
       "    <tr>\n",
       "      <th>36</th>\n",
       "      <td>16</td>\n",
       "      <td>Yugoslavia</td>\n",
       "    </tr>\n",
       "    <tr>\n",
       "      <th>37</th>\n",
       "      <td>14</td>\n",
       "      <td>Outlying-US(Guam-USVI-etc)</td>\n",
       "    </tr>\n",
       "    <tr>\n",
       "      <th>38</th>\n",
       "      <td>13</td>\n",
       "      <td>Honduras</td>\n",
       "    </tr>\n",
       "    <tr>\n",
       "      <th>39</th>\n",
       "      <td>13</td>\n",
       "      <td>Hungary</td>\n",
       "    </tr>\n",
       "    <tr>\n",
       "      <th>40</th>\n",
       "      <td>12</td>\n",
       "      <td>Scotland</td>\n",
       "    </tr>\n",
       "    <tr>\n",
       "      <th>41</th>\n",
       "      <td>1</td>\n",
       "      <td>Holand-Netherlands</td>\n",
       "    </tr>\n",
       "  </tbody>\n",
       "</table>\n",
       "</div>"
      ],
      "text/plain": [
       "    Counts                       Answer\n",
       "0    29170                United-States\n",
       "1      643                       Mexico\n",
       "2      583                            ?\n",
       "3      198                  Philippines\n",
       "4      137                      Germany\n",
       "5      121                       Canada\n",
       "6      114                  Puerto-Rico\n",
       "7      106                  El-Salvador\n",
       "8      100                        India\n",
       "9       95                         Cuba\n",
       "10      90                      England\n",
       "11      81                      Jamaica\n",
       "12      80                        South\n",
       "13      75                        China\n",
       "14      73                        Italy\n",
       "15      70           Dominican-Republic\n",
       "16      67                      Vietnam\n",
       "17      64                    Guatemala\n",
       "18      62                        Japan\n",
       "19      60                       Poland\n",
       "20      59                     Columbia\n",
       "21      51                       Taiwan\n",
       "22      44                        Haiti\n",
       "23      43                         Iran\n",
       "24      37                     Portugal\n",
       "25      34                    Nicaragua\n",
       "26      31                         Peru\n",
       "27      29                       Greece\n",
       "28      29                       France\n",
       "29      28                      Ecuador\n",
       "30      24                      Ireland\n",
       "31      20                         Hong\n",
       "32      19                     Cambodia\n",
       "33      19              Trinadad&Tobago\n",
       "34      18                         Laos\n",
       "35      18                     Thailand\n",
       "36      16                   Yugoslavia\n",
       "37      14   Outlying-US(Guam-USVI-etc)\n",
       "38      13                     Honduras\n",
       "39      13                      Hungary\n",
       "40      12                     Scotland\n",
       "41       1           Holand-Netherlands"
      ]
     },
     "metadata": {},
     "output_type": "display_data"
    },
    {
     "name": "stdout",
     "output_type": "stream",
     "text": [
      "Column Index: 14\n",
      "Column Name: target\n"
     ]
    },
    {
     "data": {
      "text/html": [
       "<div>\n",
       "<style scoped>\n",
       "    .dataframe tbody tr th:only-of-type {\n",
       "        vertical-align: middle;\n",
       "    }\n",
       "\n",
       "    .dataframe tbody tr th {\n",
       "        vertical-align: top;\n",
       "    }\n",
       "\n",
       "    .dataframe thead th {\n",
       "        text-align: right;\n",
       "    }\n",
       "</style>\n",
       "<table border=\"1\" class=\"dataframe\">\n",
       "  <thead>\n",
       "    <tr style=\"text-align: right;\">\n",
       "      <th></th>\n",
       "      <th>Counts</th>\n",
       "      <th>Answer</th>\n",
       "    </tr>\n",
       "  </thead>\n",
       "  <tbody>\n",
       "    <tr>\n",
       "      <th>0</th>\n",
       "      <td>24720</td>\n",
       "      <td>&lt;=50K</td>\n",
       "    </tr>\n",
       "    <tr>\n",
       "      <th>1</th>\n",
       "      <td>7841</td>\n",
       "      <td>&gt;50K</td>\n",
       "    </tr>\n",
       "  </tbody>\n",
       "</table>\n",
       "</div>"
      ],
      "text/plain": [
       "   Counts  Answer\n",
       "0   24720   <=50K\n",
       "1    7841    >50K"
      ]
     },
     "metadata": {},
     "output_type": "display_data"
    }
   ],
   "source": [
    "# lower all categorical values, remove apostrophes, trailing spaces\n",
    "\n",
    "a = column_non_num(df)\n",
    "cat_i = [i for i, j in a]  # indices of categorical variables\n",
    "\n",
    "for i in cat_i:\n",
    "    print(\"Column Index:\",i)\n",
    "    print(\"Column Name:\",df.columns[i])\n",
    "    vals = df.iloc[:, i].value_counts().values\n",
    "    index = df.iloc[:, i].value_counts().index\n",
    "    b = pd.DataFrame(index, vals).reset_index()\n",
    "    b.columns = [\"Counts\", \"Answer\"]\n",
    "    display(b)"
   ]
  },
  {
   "cell_type": "code",
   "execution_count": 9,
   "metadata": {
    "ExecuteTime": {
     "end_time": "2018-06-13T18:57:30.313685Z",
     "start_time": "2018-06-13T18:57:30.285483Z"
    }
   },
   "outputs": [
    {
     "name": "stdout",
     "output_type": "stream",
     "text": [
      "No. of rows with ' ?' entries: 2399\n",
      "% of total rows: 7.37%\n"
     ]
    }
   ],
   "source": [
    "_ = len(set(df[df.values == ' ?'].index))\n",
    "print(\"No. of rows with ' ?' entries:\", _)\n",
    "print(\"% of total rows: {0:.2f}%\".format(_ / df.shape[0] * 100))"
   ]
  },
  {
   "cell_type": "markdown",
   "metadata": {},
   "source": [
    "Rows with unknown values (\" ?\") were removed in order not to muddle the results. The remaining dataset contains 30162 rows and 15 columns. The new dataframe is saved in `_df`."
   ]
  },
  {
   "cell_type": "code",
   "execution_count": 10,
   "metadata": {
    "ExecuteTime": {
     "end_time": "2018-06-13T18:57:30.387665Z",
     "start_time": "2018-06-13T18:57:30.316622Z"
    }
   },
   "outputs": [
    {
     "name": "stdout",
     "output_type": "stream",
     "text": [
      "\n",
      "After dropping rows with ?:\n",
      "===========\n",
      "No. of rows with ' ?' entries: 0\n",
      "% of total rows: 0.00%\n",
      "No. of features/columns in the dataset: 15\n",
      "No. of samples/rows in the dataset: 30162\n"
     ]
    }
   ],
   "source": [
    "_df = df.copy()\n",
    "b = list(df[df.values == ' ?'].index)\n",
    "_df = df.drop(b, axis='rows')\n",
    "_df = _df.reset_index(drop=True)\n",
    "_ = len(_df[_df.values == \" ?\"])\n",
    "\n",
    "print(\"\\nAfter dropping rows with ?:\")\n",
    "print(\"===========\")\n",
    "print(\"No. of rows with ' ?' entries:\", _)\n",
    "print(\"% of total rows: {0:.2f}%\".format(_ / df.shape[0] * 100))\n",
    "print(\"No. of features/columns in the dataset: {}\".format(_df.shape[1]))\n",
    "print(\"No. of samples/rows in the dataset: {}\".format(_df.shape[0]))"
   ]
  },
  {
   "cell_type": "markdown",
   "metadata": {},
   "source": [
    "The columns `education-num` was dropped because it just contains numerical values for `education`. The new dataframe is saved in `_df2`."
   ]
  },
  {
   "cell_type": "code",
   "execution_count": 11,
   "metadata": {
    "ExecuteTime": {
     "end_time": "2018-06-13T18:57:30.398406Z",
     "start_time": "2018-06-13T18:57:30.389940Z"
    }
   },
   "outputs": [
    {
     "name": "stdout",
     "output_type": "stream",
     "text": [
      "No. of columns after dropping: 14\n"
     ]
    }
   ],
   "source": [
    "_df2 = _df.drop(columns='education-num')\n",
    "print(\"No. of columns after dropping:\", _df2.shape[1])"
   ]
  },
  {
   "cell_type": "markdown",
   "metadata": {},
   "source": [
    "In order to use the classification models, the values in the dataframe have to be numerical. The categorical feature values will be converted to numerical values using `get_dummies` method which converts all unique values into separate \"features\" or columns which may take only 0 or 1. 0 if the observation/sample/data point does not possess the feature and 1 if it does. This is appropriate because it's not possible to tell which categorical value is better over the other. For example, how can we tell if \"blue\" is 3 and \"green\" is 2? On the other hand, the 1s and 0s generated by `get_dummies` merely act like an indicator whether or not the feature applies for a certain data point.\n",
    "\n",
    "First, we separate the target column (column 13) from the dataframe and save in `y_temp`. Then we split the dataframe of features into numerical feature values and categorical feature values `df_num` and `df_cat` respectively. \n",
    "\n",
    "We apply `get_dummies` on `df_cat` and save to `df_cat2`. Afterwhich, we combine `df_num`, and `df_cat2` to a final features dataframe `X`. We don't need to use `get_dummies` for `df_num` because the values contained are already numerical."
   ]
  },
  {
   "cell_type": "code",
   "execution_count": 12,
   "metadata": {
    "ExecuteTime": {
     "end_time": "2018-06-13T18:57:32.611106Z",
     "start_time": "2018-06-13T18:57:30.401893Z"
    },
    "scrolled": true
   },
   "outputs": [
    {
     "name": "stdout",
     "output_type": "stream",
     "text": [
      "No. of columns containing non-numerical data: 9\n",
      "No. of columns prior to dummification: 13\n",
      "No. of columns that must be changed to numerical: 98\n",
      "No. of columns automatically changed to numbers, 1st pass: 98\n",
      "\n",
      "Remaining columns with values that must be changed to numbers:\n",
      "All values numerical already.\n",
      "\n",
      "No. of columns after dummification: 103\n",
      "No. of rows: 30162\n"
     ]
    }
   ],
   "source": [
    "a = column_non_num(_df2)\n",
    "c_inds = [i for i, j in a if i != 13]  # 13 is the index of target\n",
    "y_temp = _df2['target']\n",
    "n_inds = [i for i in range(len(_df2.columns) - 1) if i not in c_inds]\n",
    "print(\"No. of columns prior to dummification:\", len(n_inds) + len(c_inds))\n",
    "\n",
    "df_num = _df2.iloc[:, n_inds]\n",
    "df_cat = _df2.iloc[:, c_inds]\n",
    "\n",
    "df_cat2 = pd.get_dummies(df_cat)\n",
    "\n",
    "# convert df_cat2 to numeric\n",
    "conv_to_numeric(df_cat2, list(range(len(df_cat2.columns))))\n",
    "\n",
    "X = pd.concat([df_num, df_cat2], axis=1)\n",
    "length = len(df_cat2.columns) + len(df_num.columns)\n",
    "print()\n",
    "print(\"No. of columns after dummification:\", X.shape[1])\n",
    "print(\"No. of rows:\", X.shape[0])"
   ]
  },
  {
   "cell_type": "markdown",
   "metadata": {},
   "source": [
    "`y_temp` values are converted to 1 for \">50K\", and 0 for \"<=50K\" and saved to `y`. We can do this because in this case, the numbers are just placeholders for the category names. They do not have mathematical interaction with the classification model except being the target classes."
   ]
  },
  {
   "cell_type": "code",
   "execution_count": 13,
   "metadata": {
    "ExecuteTime": {
     "end_time": "2018-06-13T18:57:32.636758Z",
     "start_time": "2018-06-13T18:57:32.613964Z"
    }
   },
   "outputs": [
    {
     "name": "stdout",
     "output_type": "stream",
     "text": [
      "y contains two classes and 30162 for observations\n"
     ]
    }
   ],
   "source": [
    "y_ = []\n",
    "for i in y_temp:\n",
    "    if i == ' >50K':\n",
    "        y_.append(1)\n",
    "    elif i == \" <=50K\":\n",
    "        y_.append(0)\n",
    "        \n",
    "y = pd.Series(y_, name='Target')\n",
    "print(\"y contains two classes and {} for observations\".format(len(y)))"
   ]
  },
  {
   "cell_type": "markdown",
   "metadata": {},
   "source": [
    "Finally, we make another set of dataframes, this time, dataframes of \"undummified\" categories plus the targets added to the last column. The same was done for numerical categories. These will be used for data exploration below."
   ]
  },
  {
   "cell_type": "code",
   "execution_count": 14,
   "metadata": {
    "ExecuteTime": {
     "end_time": "2018-06-13T18:57:32.655613Z",
     "start_time": "2018-06-13T18:57:32.641565Z"
    }
   },
   "outputs": [],
   "source": [
    "df_cat_targ = pd.concat([df_cat, y], axis=1) # get categories with targets\n",
    "df_num_targ = pd.concat([df_num, y], axis=1) # get num categories with targets"
   ]
  },
  {
   "cell_type": "markdown",
   "metadata": {},
   "source": [
    "#### Exploring the Data"
   ]
  },
  {
   "cell_type": "markdown",
   "metadata": {},
   "source": [
    "22654 rows have <=50K income while 7508 rows have >50K income."
   ]
  },
  {
   "cell_type": "code",
   "execution_count": 15,
   "metadata": {
    "ExecuteTime": {
     "end_time": "2018-06-13T18:57:32.665652Z",
     "start_time": "2018-06-13T18:57:32.658165Z"
    },
    "scrolled": true
   },
   "outputs": [
    {
     "name": "stdout",
     "output_type": "stream",
     "text": [
      "No. of samples with <=50K income: 22654\n",
      "No. of samples with >50K income: 7508\n"
     ]
    }
   ],
   "source": [
    "print(\"No. of samples with <=50K income:\",np.sum(y == 0))\n",
    "print(\"No. of samples with >50K income:\",np.sum(y == 1))"
   ]
  },
  {
   "cell_type": "markdown",
   "metadata": {},
   "source": [
    "The counts of values for the categorical features are shown in the bar charts below. The charts are divided according to income class.\n",
    "\n",
    "Notably, majority in the lower income class are highschool graduates, while those in the higher income class have bachelor's degrees. Majority of those in lower income class are not married, while those in higher income class are mostly married, particularly husbands. The proportion of females in the higher income class is lower than the proportion in the lower income class. Majority of those in the lower income class work in clerical or administrative jobs while those in the higher class work as managers or executives. Finally, around 90% of all observations are from the United States."
   ]
  },
  {
   "cell_type": "code",
   "execution_count": 16,
   "metadata": {
    "ExecuteTime": {
     "end_time": "2018-06-13T18:57:35.742832Z",
     "start_time": "2018-06-13T18:57:32.668215Z"
    },
    "scrolled": true
   },
   "outputs": [
    {
     "name": "stdout",
     "output_type": "stream",
     "text": [
      "workclass\n",
      "=============\n"
     ]
    },
    {
     "data": {
      "image/png": "[encoded data removed]",
      "text/plain": [
       "<matplotlib.figure.Figure at 0x1177ac6a0>"
      ]
     },
     "metadata": {},
     "output_type": "display_data"
    },
    {
     "name": "stdout",
     "output_type": "stream",
     "text": [
      "education\n",
      "=============\n"
     ]
    },
    {
     "data": {
      "image/png": "[encoded data removed]",
      "text/plain": [
       "<matplotlib.figure.Figure at 0x117d99e80>"
      ]
     },
     "metadata": {},
     "output_type": "display_data"
    },
    {
     "name": "stdout",
     "output_type": "stream",
     "text": [
      "marital-status\n",
      "=============\n"
     ]
    },
    {
     "data": {
      "image/png": "[encoded data removed]",
      "text/plain": [
       "<matplotlib.figure.Figure at 0x117d992b0>"
      ]
     },
     "metadata": {},
     "output_type": "display_data"
    },
    {
     "name": "stdout",
     "output_type": "stream",
     "text": [
      "occupation\n",
      "=============\n"
     ]
    },
    {
     "data": {
      "image/png": "[encoded data removed]",
      "text/plain": [
       "<matplotlib.figure.Figure at 0x11875c240>"
      ]
     },
     "metadata": {},
     "output_type": "display_data"
    },
    {
     "name": "stdout",
     "output_type": "stream",
     "text": [
      "relationship\n",
      "=============\n"
     ]
    },
    {
     "data": {
      "image/png": "[encoded data removed]",
      "text/plain": [
       "<matplotlib.figure.Figure at 0x11945c978>"
      ]
     },
     "metadata": {},
     "output_type": "display_data"
    },
    {
     "name": "stdout",
     "output_type": "stream",
     "text": [
      "race\n",
      "=============\n"
     ]
    },
    {
     "data": {
      "image/png": "[encoded data removed]",
      "text/plain": [
       "<matplotlib.figure.Figure at 0x11948eda0>"
      ]
     },
     "metadata": {},
     "output_type": "display_data"
    },
    {
     "name": "stdout",
     "output_type": "stream",
     "text": [
      "sex\n",
      "=============\n"
     ]
    },
    {
     "data": {
      "image/png": "[encoded data removed]",
      "text/plain": [
       "<matplotlib.figure.Figure at 0x119481a58>"
      ]
     },
     "metadata": {},
     "output_type": "display_data"
    },
    {
     "name": "stdout",
     "output_type": "stream",
     "text": [
      "native-country\n",
      "=============\n"
     ]
    },
    {
     "data": {
      "image/png": "[encoded data removed]",
      "text/plain": [
       "<matplotlib.figure.Figure at 0x119314630>"
      ]
     },
     "metadata": {},
     "output_type": "display_data"
    }
   ],
   "source": [
    "big_list = []\n",
    "\n",
    "titles = ['<=50K', '>50K']\n",
    "\n",
    "for n in range(len(df_cat.columns)):\n",
    "\n",
    "    small_list = [df_cat.columns[n]]\n",
    "\n",
    "    plt.figure(figsize=(12, 3))\n",
    "    for i in range(2):\n",
    "        plt.subplot(1, 2, i + 1)\n",
    "        keys = list(\n",
    "            dict(df_cat_targ.iloc[:, n][df_cat_targ.Target == i].value_counts()).keys())\n",
    "        vals = list(\n",
    "            dict(df_cat_targ.iloc[:, n][df_cat_targ.Target == i].value_counts()).values())\n",
    "\n",
    "        inds = np.argsort(vals)\n",
    "        sorted_keys = np.array(keys)[inds]\n",
    "\n",
    "        plt.bar(sorted(keys), sorted(vals)[::-1])\n",
    "        plt.xticks(np.arange(len(keys)),\n",
    "                   sorted_keys[::-1], rotation='vertical')\n",
    "\n",
    "        m = max(vals) / np.sum(vals) * 100  # proportion of max value\n",
    "        v = keys[vals.index(max(vals))]  # most numerous variable\n",
    "\n",
    "        plt.title(titles[i] + \"\\n {0:.2f}% \".format(m) + str(v))\n",
    "        small_list.append(\"{0:.2f}% \".format(m) + str(v))\n",
    "\n",
    "    big_list.append(small_list)\n",
    "\n",
    "    t = df_cat_targ.columns[n]  # title/column\n",
    "    print(t)\n",
    "    print('=============')\n",
    "\n",
    "    plt.show()"
   ]
  },
  {
   "cell_type": "markdown",
   "metadata": {},
   "source": [
    "The top values per each feature are summarized in the table below. "
   ]
  },
  {
   "cell_type": "code",
   "execution_count": 17,
   "metadata": {
    "ExecuteTime": {
     "end_time": "2018-06-13T18:57:35.762070Z",
     "start_time": "2018-06-13T18:57:35.746780Z"
    }
   },
   "outputs": [
    {
     "name": "stdout",
     "output_type": "stream",
     "text": [
      "Most Frequent Feature Values\n",
      "=======================\n"
     ]
    },
    {
     "data": {
      "text/html": [
       "<div>\n",
       "<style scoped>\n",
       "    .dataframe tbody tr th:only-of-type {\n",
       "        vertical-align: middle;\n",
       "    }\n",
       "\n",
       "    .dataframe tbody tr th {\n",
       "        vertical-align: top;\n",
       "    }\n",
       "\n",
       "    .dataframe thead th {\n",
       "        text-align: right;\n",
       "    }\n",
       "</style>\n",
       "<table border=\"1\" class=\"dataframe\">\n",
       "  <thead>\n",
       "    <tr style=\"text-align: right;\">\n",
       "      <th></th>\n",
       "      <th>Feature</th>\n",
       "      <th>&lt;=50K</th>\n",
       "      <th>&gt;50K</th>\n",
       "    </tr>\n",
       "  </thead>\n",
       "  <tbody>\n",
       "    <tr>\n",
       "      <th>0</th>\n",
       "      <td>workclass</td>\n",
       "      <td>76.85%  Private</td>\n",
       "      <td>64.94%  Private</td>\n",
       "    </tr>\n",
       "    <tr>\n",
       "      <th>1</th>\n",
       "      <td>education</td>\n",
       "      <td>36.30%  HS-grad</td>\n",
       "      <td>28.32%  Bachelors</td>\n",
       "    </tr>\n",
       "    <tr>\n",
       "      <th>2</th>\n",
       "      <td>marital-status</td>\n",
       "      <td>40.86%  Never-married</td>\n",
       "      <td>85.23%  Married-civ-spouse</td>\n",
       "    </tr>\n",
       "    <tr>\n",
       "      <th>3</th>\n",
       "      <td>occupation</td>\n",
       "      <td>14.23%  Adm-clerical</td>\n",
       "      <td>25.80%  Exec-managerial</td>\n",
       "    </tr>\n",
       "    <tr>\n",
       "      <th>4</th>\n",
       "      <td>relationship</td>\n",
       "      <td>30.47%  Not-in-family</td>\n",
       "      <td>75.64%  Husband</td>\n",
       "    </tr>\n",
       "    <tr>\n",
       "      <th>5</th>\n",
       "      <td>race</td>\n",
       "      <td>84.29%  White</td>\n",
       "      <td>91.09%  White</td>\n",
       "    </tr>\n",
       "    <tr>\n",
       "      <th>6</th>\n",
       "      <td>sex</td>\n",
       "      <td>61.73%  Male</td>\n",
       "      <td>85.19%  Male</td>\n",
       "    </tr>\n",
       "    <tr>\n",
       "      <th>7</th>\n",
       "      <td>native-country</td>\n",
       "      <td>90.53%  United-States</td>\n",
       "      <td>93.17%  United-States</td>\n",
       "    </tr>\n",
       "  </tbody>\n",
       "</table>\n",
       "</div>"
      ],
      "text/plain": [
       "          Feature                  <=50K                        >50K\n",
       "0       workclass        76.85%  Private             64.94%  Private\n",
       "1       education        36.30%  HS-grad           28.32%  Bachelors\n",
       "2  marital-status  40.86%  Never-married  85.23%  Married-civ-spouse\n",
       "3      occupation   14.23%  Adm-clerical     25.80%  Exec-managerial\n",
       "4    relationship  30.47%  Not-in-family             75.64%  Husband\n",
       "5            race          84.29%  White               91.09%  White\n",
       "6             sex           61.73%  Male                85.19%  Male\n",
       "7  native-country  90.53%  United-States       93.17%  United-States"
      ]
     },
     "execution_count": 17,
     "metadata": {},
     "output_type": "execute_result"
    }
   ],
   "source": [
    "print(\"Most Frequent Feature Values\")\n",
    "print(\"=======================\")\n",
    "cols = ['Feature','<=50K', '>50K']\n",
    "pd.DataFrame(big_list, columns=cols)"
   ]
  },
  {
   "cell_type": "markdown",
   "metadata": {},
   "source": [
    "The histograms of numerical data from the two income classes. For the most part, the distributions of datapoints of the two classes overlap, except for `capital-gain` which clearly shows separation. The mean age of the two classes are much different as well. Those in the higher income class tend to be older than those in the lower income class."
   ]
  },
  {
   "cell_type": "code",
   "execution_count": 18,
   "metadata": {
    "ExecuteTime": {
     "end_time": "2018-06-13T18:57:36.710426Z",
     "start_time": "2018-06-13T18:57:35.764772Z"
    },
    "scrolled": true
   },
   "outputs": [
    {
     "name": "stdout",
     "output_type": "stream",
     "text": [
      "age\n",
      "=============\n"
     ]
    },
    {
     "data": {
      "image/png": "[encoded data removed]",
      "text/plain": [
       "<matplotlib.figure.Figure at 0x1177314a8>"
      ]
     },
     "metadata": {},
     "output_type": "display_data"
    },
    {
     "name": "stdout",
     "output_type": "stream",
     "text": [
      "fnlwgt\n",
      "=============\n"
     ]
    },
    {
     "data": {
      "image/png": "[encoded data removed]",
      "text/plain": [
       "<matplotlib.figure.Figure at 0x119639eb8>"
      ]
     },
     "metadata": {},
     "output_type": "display_data"
    },
    {
     "name": "stdout",
     "output_type": "stream",
     "text": [
      "capital-gain\n",
      "=============\n"
     ]
    },
    {
     "data": {
      "image/png": "[encoded data removed]",
      "text/plain": [
       "<matplotlib.figure.Figure at 0x119906f60>"
      ]
     },
     "metadata": {},
     "output_type": "display_data"
    },
    {
     "name": "stdout",
     "output_type": "stream",
     "text": [
      "capital-loss\n",
      "=============\n"
     ]
    },
    {
     "data": {
      "image/png": "[encoded data removed]",
      "text/plain": [
       "<matplotlib.figure.Figure at 0x11997d8d0>"
      ]
     },
     "metadata": {},
     "output_type": "display_data"
    },
    {
     "name": "stdout",
     "output_type": "stream",
     "text": [
      "hours-per-week\n",
      "=============\n"
     ]
    },
    {
     "data": {
      "image/png": "[encoded data removed]",
      "text/plain": [
       "<matplotlib.figure.Figure at 0x117d89da0>"
      ]
     },
     "metadata": {},
     "output_type": "display_data"
    }
   ],
   "source": [
    "big_list2 = []\n",
    "\n",
    "titles = ['<=50K', '>50K']\n",
    "\n",
    "for n in range(len(df_num.columns)):\n",
    "\n",
    "    small_list = [df_num.columns[n]]\n",
    "\n",
    "    plt.figure(figsize=(6, 2))\n",
    "    for i in range(2):\n",
    "        plt.gca()\n",
    "        vals = list(df_num_targ.iloc[:, n][df_num_targ.Target == i])\n",
    "        \n",
    "        m = np.mean(vals)  # mean value\n",
    "        \n",
    "        plt.hist(vals, alpha=0.5, label=titles[i]+\" Mean: {0:.2f}\".format((m)))\n",
    "        plt.legend()\n",
    "        \n",
    "        small_list.append(\"{0:.2f}\".format(m))\n",
    "\n",
    "    big_list2.append(small_list)\n",
    "\n",
    "    t = df_num_targ.columns[n]  # title/column\n",
    "    print(t)\n",
    "    print('=============')\n",
    "\n",
    "    plt.show()"
   ]
  },
  {
   "cell_type": "markdown",
   "metadata": {},
   "source": [
    "The table below summarizes the means per each feature and income class. Aside from the observations mentioned above, we see that those in >50k tend to have higher `capital-loss` and `hours-per-week`."
   ]
  },
  {
   "cell_type": "code",
   "execution_count": 19,
   "metadata": {
    "ExecuteTime": {
     "end_time": "2018-06-13T18:57:36.727492Z",
     "start_time": "2018-06-13T18:57:36.713022Z"
    },
    "scrolled": false
   },
   "outputs": [
    {
     "name": "stdout",
     "output_type": "stream",
     "text": [
      "Mean of Feature Values\n",
      "=======================\n"
     ]
    },
    {
     "data": {
      "text/html": [
       "<div>\n",
       "<style scoped>\n",
       "    .dataframe tbody tr th:only-of-type {\n",
       "        vertical-align: middle;\n",
       "    }\n",
       "\n",
       "    .dataframe tbody tr th {\n",
       "        vertical-align: top;\n",
       "    }\n",
       "\n",
       "    .dataframe thead th {\n",
       "        text-align: right;\n",
       "    }\n",
       "</style>\n",
       "<table border=\"1\" class=\"dataframe\">\n",
       "  <thead>\n",
       "    <tr style=\"text-align: right;\">\n",
       "      <th></th>\n",
       "      <th>Feature</th>\n",
       "      <th>&lt;=50K</th>\n",
       "      <th>&gt;50K</th>\n",
       "    </tr>\n",
       "  </thead>\n",
       "  <tbody>\n",
       "    <tr>\n",
       "      <th>0</th>\n",
       "      <td>age</td>\n",
       "      <td>36.61</td>\n",
       "      <td>43.96</td>\n",
       "    </tr>\n",
       "    <tr>\n",
       "      <th>1</th>\n",
       "      <td>fnlwgt</td>\n",
       "      <td>190338.65</td>\n",
       "      <td>188149.96</td>\n",
       "    </tr>\n",
       "    <tr>\n",
       "      <th>2</th>\n",
       "      <td>capital-gain</td>\n",
       "      <td>148.89</td>\n",
       "      <td>3937.68</td>\n",
       "    </tr>\n",
       "    <tr>\n",
       "      <th>3</th>\n",
       "      <td>capital-loss</td>\n",
       "      <td>53.45</td>\n",
       "      <td>193.75</td>\n",
       "    </tr>\n",
       "    <tr>\n",
       "      <th>4</th>\n",
       "      <td>hours-per-week</td>\n",
       "      <td>39.35</td>\n",
       "      <td>45.71</td>\n",
       "    </tr>\n",
       "  </tbody>\n",
       "</table>\n",
       "</div>"
      ],
      "text/plain": [
       "          Feature      <=50K       >50K\n",
       "0             age      36.61      43.96\n",
       "1          fnlwgt  190338.65  188149.96\n",
       "2    capital-gain     148.89    3937.68\n",
       "3    capital-loss      53.45     193.75\n",
       "4  hours-per-week      39.35      45.71"
      ]
     },
     "execution_count": 19,
     "metadata": {},
     "output_type": "execute_result"
    }
   ],
   "source": [
    "cols = ['Feature', '<=50K', '>50K']\n",
    "\n",
    "print(\"Mean of Feature Values\")\n",
    "print(\"=======================\")\n",
    "pd.DataFrame(big_list2, columns=cols)"
   ]
  },
  {
   "cell_type": "markdown",
   "metadata": {},
   "source": [
    "## Models\n",
    "#### Proportional Chance Criterion\n",
    "The Proportional Chance Criterion (PCC) measures the chance of correctly classifying a datapoint based on chance alone. As a rule of thumb, to say that our model works, we need to exceed prediction accuracy of 1.25 x PCC. In this case, we need to exceed 78% accuracy."
   ]
  },
  {
   "cell_type": "code",
   "execution_count": 20,
   "metadata": {
    "ExecuteTime": {
     "end_time": "2018-06-13T18:57:37.020851Z",
     "start_time": "2018-06-13T18:57:36.730139Z"
    }
   },
   "outputs": [
    {
     "name": "stdout",
     "output_type": "stream",
     "text": [
      "Population per class:\n"
     ]
    },
    {
     "data": {
      "text/html": [
       "<div>\n",
       "<style scoped>\n",
       "    .dataframe tbody tr th:only-of-type {\n",
       "        vertical-align: middle;\n",
       "    }\n",
       "\n",
       "    .dataframe tbody tr th {\n",
       "        vertical-align: top;\n",
       "    }\n",
       "\n",
       "    .dataframe thead th {\n",
       "        text-align: right;\n",
       "    }\n",
       "</style>\n",
       "<table border=\"1\" class=\"dataframe\">\n",
       "  <thead>\n",
       "    <tr style=\"text-align: right;\">\n",
       "      <th></th>\n",
       "      <th>Counts</th>\n",
       "    </tr>\n",
       "  </thead>\n",
       "  <tbody>\n",
       "    <tr>\n",
       "      <th>&lt;=50K</th>\n",
       "      <td>22654</td>\n",
       "    </tr>\n",
       "    <tr>\n",
       "      <th>&gt;50K</th>\n",
       "      <td>7508</td>\n",
       "    </tr>\n",
       "  </tbody>\n",
       "</table>\n",
       "</div>"
      ],
      "text/plain": [
       "        Counts\n",
       " <=50K   22654\n",
       " >50K     7508"
      ]
     },
     "metadata": {},
     "output_type": "display_data"
    },
    {
     "name": "stdout",
     "output_type": "stream",
     "text": [
      "1.25 * Proportion Chance Criterion: 78.26%\n"
     ]
    },
    {
     "data": {
      "image/png": "[encoded data removed]",
      "text/plain": [
       "<matplotlib.figure.Figure at 0x11774a518>"
      ]
     },
     "metadata": {},
     "output_type": "display_data"
    }
   ],
   "source": [
    "state_counts = Counter(y_temp)\n",
    "df_state = pd.DataFrame.from_dict(state_counts, orient='index')\n",
    "df_state.columns = ['Counts']\n",
    "df_state.plot(kind='bar')\n",
    "print(\"Population per class:\")\n",
    "display(df_state)\n",
    "num = (df_state['Counts'] / df_state['Counts'].sum())**2\n",
    "print(\n",
    "    \"1.25 * Proportion Chance Criterion: {0:.2f}%\".format(1.25 * 100 * num.sum()))"
   ]
  },
  {
   "cell_type": "markdown",
   "metadata": {},
   "source": [
    "#### k Nearest Neighbors Classifier\n",
    "kNN is an algorithm that we can use to classify a new observation based on the classifications of historical observations. Loosely speaking, new observations are classified based on how closely they resemble the features of historical observations. \n",
    "\n",
    "The important parameter of kNN is k , which refers to the number of nearest neighbors or number of training datapoints with features closest to the features of the new datapoint being classified. The more nearest neighbors considered (larger k), the more the model considers the training data in general. The fewer nearest neighbors considered (smaller k), the more the model considers individual datapoints. Too high k and the model risks underfitting. Too low k and the model risks overfitting."
   ]
  },
  {
   "cell_type": "markdown",
   "metadata": {},
   "source": [
    "The chart below shows the accuracy vs parameter value (nearest neighbors, k) on the training set (blue line) and test set (red line). The red and blue lines show the average accuracies from 3 iterations (different sampling of training and testing set from the original dataset). The proportional chance criterion is plotted as a dashed horizontal gray line. The transparent colored areas around the lines show the extent of one standard deviation from the average.\n",
    "\n",
    "We are interested in the model's performance or accuracy on the test set (red line). We observe that running all features on kNN gives a classification accuracy of only 78% using an optimal parameter of 8 nearest neighbors, only teasing ever slightly above the PCC."
   ]
  },
  {
   "cell_type": "code",
   "execution_count": 21,
   "metadata": {
    "ExecuteTime": {
     "end_time": "2018-06-13T18:58:45.490190Z",
     "start_time": "2018-06-13T18:57:37.024271Z"
    },
    "scrolled": false
   },
   "outputs": [
    {
     "data": {
      "image/png": "[encoded data removed]",
      "text/plain": [
       "<matplotlib.figure.Figure at 0x119874eb8>"
      ]
     },
     "metadata": {},
     "output_type": "display_data"
    },
    {
     "name": "stdout",
     "output_type": "stream",
     "text": [
      "Report:\n",
      "=======\n",
      "Max average accuracy: 0.7829\n",
      "Var of accuracy at optimal parameter: 0.0000\n",
      "Optimal parameter: 8.0000\n",
      "1.25 x PCC: 0.7826\n",
      "Total iterations: 3\n"
     ]
    }
   ],
   "source": [
    "ml_class(X, y, ml_type='knn_class', show_PCC=True,\n",
    "         param_range=range(1, 10), seed_settings=range(0, 3),\n",
    "         plot=True, report=True);"
   ]
  },
  {
   "cell_type": "markdown",
   "metadata": {},
   "source": [
    "Optimizing the kNN classifier is a long process since every run, the model will sweep through more than thirty thousand observations, each with 103 features. In this case, kNN proves to be computationally intensive. Logistic Regression be shown to be faster and more accurate, as will be shown next."
   ]
  },
  {
   "cell_type": "markdown",
   "metadata": {},
   "source": [
    "#### Logistic Regression\n",
    "Logistic Regression is another classification algorithm (even though it's called regression) derived from linear regression, but instead of calculating a continuous outcome, it calculates the most probable categorical outcome. To illustrate this, say we want to predict the score of an athlete in a competition, given the hours of practicing, then linear regression may be used. But if we want to calculate the odds that the athlete will win the competition, then we can use logistic regression.\n",
    "\n",
    "The important parameter of logistic regression, C, can be looked at as like a \"regularization\" or \"generalization\" factor. The higher the value of C, the more the classifier give weight to individual datapoints, while the lower its value, the more the classifier gives weight to the training dataset as a whole. C with too high a value results in overfitting the training data, which reduces generalizability on new datapoints. While C with too low a value results in underfitting, and results in too low accuracies on either the training data or test data.\n",
    "\n",
    "Applying logistic regression using \"L1 norm\" (a method to eliminate features) on all features yields an accuracy of around 85%, significantly above the minimum required of 78%. Immediately we see that this method performs better than kNN used above."
   ]
  },
  {
   "cell_type": "code",
   "execution_count": 22,
   "metadata": {
    "ExecuteTime": {
     "end_time": "2018-06-13T19:00:01.358003Z",
     "start_time": "2018-06-13T18:58:45.492987Z"
    }
   },
   "outputs": [
    {
     "data": {
      "image/png": "[encoded data removed]",
      "text/plain": [
       "<matplotlib.figure.Figure at 0x1117000f0>"
      ]
     },
     "metadata": {},
     "output_type": "display_data"
    },
    {
     "name": "stdout",
     "output_type": "stream",
     "text": [
      "Report:\n",
      "=======\n",
      "Max average accuracy: 0.8483\n",
      "Var of accuracy at optimal parameter: 0.0000\n",
      "Optimal parameter: 0.2347\n",
      "1.25 x PCC: 0.7826\n",
      "Total iterations: 3\n"
     ]
    }
   ],
   "source": [
    "params = np.linspace(0.0001, 0.5, 50)\n",
    "a, p_optimal = ml_class(X, y, ml_type='log_reg', show_PCC=True,\n",
    "                        param_range=params, seed_settings=range(0, 3),\n",
    "                        plot=True, report=True, penalty='l1')"
   ]
  },
  {
   "cell_type": "markdown",
   "metadata": {},
   "source": [
    "The feature coefficients in the logistic regression function can be thought of as the weights on each feature. The larger the weight, the more influential that feature is on the classification. The chart below shows the coefficient values vs the index of the feature for a logistic regression using C as determined above. Notice that many coefficients especially at around 70 to 100 were reduced to 0"
   ]
  },
  {
   "cell_type": "code",
   "execution_count": 23,
   "metadata": {
    "ExecuteTime": {
     "end_time": "2018-06-13T19:00:01.762796Z",
     "start_time": "2018-06-13T19:00:01.360906Z"
    },
    "scrolled": true
   },
   "outputs": [
    {
     "data": {
      "image/png": "[encoded data removed]",
      "text/plain": [
       "<matplotlib.figure.Figure at 0x119a7d3c8>"
      ]
     },
     "metadata": {},
     "output_type": "display_data"
    }
   ],
   "source": [
    "# split data into test and training sets\n",
    "X_train, X_test, y_train, y_test = train_test_split(X, y, random_state=0)\n",
    "clf = LogisticRegression(C=p_optimal, penalty='l1')\n",
    "clf.fit(X_train, y_train)\n",
    "\n",
    "a = [i for i in clf.coef_[0]]\n",
    "\n",
    "plt.figure(figsize=(10, 4))\n",
    "plt.plot(a, marker='o', linestyle='none')\n",
    "plt.title(\"Values of Feature Coefficients\")\n",
    "plt.ylabel(\"Coefficient value\")\n",
    "plt.xlabel(\"Feature Index\")\n",
    "\n",
    "plt.plot([0, 100], [0, 0])\n",
    "plt.margins(0.05)\n",
    "\n",
    "plt.show()"
   ]
  },
  {
   "cell_type": "markdown",
   "metadata": {},
   "source": [
    "Four of the five features with most positive coefficients are features about educational attainment, and one feature is whether or not the person is a wife. The features with most negative coefficients are about marital status."
   ]
  },
  {
   "cell_type": "code",
   "execution_count": 24,
   "metadata": {
    "ExecuteTime": {
     "end_time": "2018-06-13T19:00:01.823287Z",
     "start_time": "2018-06-13T19:00:01.765614Z"
    }
   },
   "outputs": [
    {
     "name": "stdout",
     "output_type": "stream",
     "text": [
      "No. of Features Selected: 61 out of 103 features\n",
      "Top five features with positive coefficients:\n"
     ]
    },
    {
     "data": {
      "text/html": [
       "<div>\n",
       "<style scoped>\n",
       "    .dataframe tbody tr th:only-of-type {\n",
       "        vertical-align: middle;\n",
       "    }\n",
       "\n",
       "    .dataframe tbody tr th {\n",
       "        vertical-align: top;\n",
       "    }\n",
       "\n",
       "    .dataframe thead th {\n",
       "        text-align: right;\n",
       "    }\n",
       "</style>\n",
       "<table border=\"1\" class=\"dataframe\">\n",
       "  <thead>\n",
       "    <tr style=\"text-align: right;\">\n",
       "      <th></th>\n",
       "      <th>index</th>\n",
       "      <th>Index</th>\n",
       "      <th>Coefficients</th>\n",
       "      <th>Features</th>\n",
       "    </tr>\n",
       "  </thead>\n",
       "  <tbody>\n",
       "    <tr>\n",
       "      <th>0</th>\n",
       "      <td>16</td>\n",
       "      <td>22</td>\n",
       "      <td>1.657826</td>\n",
       "      <td>education_ Doctorate</td>\n",
       "    </tr>\n",
       "    <tr>\n",
       "      <th>1</th>\n",
       "      <td>19</td>\n",
       "      <td>26</td>\n",
       "      <td>1.644384</td>\n",
       "      <td>education_ Prof-school</td>\n",
       "    </tr>\n",
       "    <tr>\n",
       "      <th>2</th>\n",
       "      <td>18</td>\n",
       "      <td>24</td>\n",
       "      <td>1.158872</td>\n",
       "      <td>education_ Masters</td>\n",
       "    </tr>\n",
       "    <tr>\n",
       "      <th>3</th>\n",
       "      <td>45</td>\n",
       "      <td>54</td>\n",
       "      <td>1.022111</td>\n",
       "      <td>relationship_ Wife</td>\n",
       "    </tr>\n",
       "    <tr>\n",
       "      <th>4</th>\n",
       "      <td>15</td>\n",
       "      <td>21</td>\n",
       "      <td>0.792872</td>\n",
       "      <td>education_ Bachelors</td>\n",
       "    </tr>\n",
       "  </tbody>\n",
       "</table>\n",
       "</div>"
      ],
      "text/plain": [
       "   index  Index  Coefficients                Features\n",
       "0     16     22      1.657826    education_ Doctorate\n",
       "1     19     26      1.644384  education_ Prof-school\n",
       "2     18     24      1.158872      education_ Masters\n",
       "3     45     54      1.022111      relationship_ Wife\n",
       "4     15     21      0.792872    education_ Bachelors"
      ]
     },
     "metadata": {},
     "output_type": "display_data"
    },
    {
     "name": "stdout",
     "output_type": "stream",
     "text": [
      "Top five features with negative coefficients:\n"
     ]
    },
    {
     "data": {
      "text/html": [
       "<div>\n",
       "<style scoped>\n",
       "    .dataframe tbody tr th:only-of-type {\n",
       "        vertical-align: middle;\n",
       "    }\n",
       "\n",
       "    .dataframe tbody tr th {\n",
       "        vertical-align: top;\n",
       "    }\n",
       "\n",
       "    .dataframe thead th {\n",
       "        text-align: right;\n",
       "    }\n",
       "</style>\n",
       "<table border=\"1\" class=\"dataframe\">\n",
       "  <thead>\n",
       "    <tr style=\"text-align: right;\">\n",
       "      <th></th>\n",
       "      <th>index</th>\n",
       "      <th>Index</th>\n",
       "      <th>Coefficients</th>\n",
       "      <th>Features</th>\n",
       "    </tr>\n",
       "  </thead>\n",
       "  <tbody>\n",
       "    <tr>\n",
       "      <th>56</th>\n",
       "      <td>25</td>\n",
       "      <td>33</td>\n",
       "      <td>-1.430743</td>\n",
       "      <td>marital-status_ Separated</td>\n",
       "    </tr>\n",
       "    <tr>\n",
       "      <th>57</th>\n",
       "      <td>43</td>\n",
       "      <td>52</td>\n",
       "      <td>-1.464467</td>\n",
       "      <td>relationship_ Own-child</td>\n",
       "    </tr>\n",
       "    <tr>\n",
       "      <th>58</th>\n",
       "      <td>51</td>\n",
       "      <td>60</td>\n",
       "      <td>-1.473946</td>\n",
       "      <td>sex_ Female</td>\n",
       "    </tr>\n",
       "    <tr>\n",
       "      <th>59</th>\n",
       "      <td>21</td>\n",
       "      <td>28</td>\n",
       "      <td>-1.478421</td>\n",
       "      <td>marital-status_ Divorced</td>\n",
       "    </tr>\n",
       "    <tr>\n",
       "      <th>60</th>\n",
       "      <td>24</td>\n",
       "      <td>32</td>\n",
       "      <td>-2.049203</td>\n",
       "      <td>marital-status_ Never-married</td>\n",
       "    </tr>\n",
       "  </tbody>\n",
       "</table>\n",
       "</div>"
      ],
      "text/plain": [
       "    index  Index  Coefficients                       Features\n",
       "56     25     33     -1.430743      marital-status_ Separated\n",
       "57     43     52     -1.464467        relationship_ Own-child\n",
       "58     51     60     -1.473946                    sex_ Female\n",
       "59     21     28     -1.478421       marital-status_ Divorced\n",
       "60     24     32     -2.049203  marital-status_ Never-married"
      ]
     },
     "metadata": {},
     "output_type": "display_data"
    }
   ],
   "source": [
    "inds = []\n",
    "coefs = []\n",
    "for i in range(len(a)):\n",
    "    if abs(a[i]) > 0.001:\n",
    "        inds.append(i)\n",
    "        coefs.append(a[i])\n",
    "\n",
    "feats = [X.columns[i] for i in inds]\n",
    "feats_ = pd.Series(feats, name='Features')\n",
    "inds_ = pd.Series(inds, name='Index')\n",
    "coefs_ = pd.Series(coefs, name='Coefficients')\n",
    "\n",
    "_ = pd.concat([inds_, coefs_, feats_], axis=1)\n",
    "_ = _.sort_values(by='Coefficients', ascending=False).reset_index()\n",
    "\n",
    "\n",
    "print(\"No. of Features Selected: {} out of {} features\".format(len(feats_),\n",
    "                                                               len(X.columns)))\n",
    "print(\"Top five features with positive coefficients:\")\n",
    "display(_.head(5))\n",
    "print(\"Top five features with negative coefficients:\")\n",
    "display(_.tail(5))"
   ]
  },
  {
   "cell_type": "markdown",
   "metadata": {},
   "source": [
    "#### Linear SVC\n",
    "Linear Support Vector Classifier (SVC) is another classification algorithm that works by finding the lines, planes, or hyperplanes (in the case beyond three features or dimensions) that divide the observations into two or more classes. In this case, the classes are whether or not the person earns more than 50,000 USD annually. The important parameter C for Linear SVC works like in logistic regression. \n",
    "\n",
    "Applying Linear SVC on all 103 features yields 85% accuracy."
   ]
  },
  {
   "cell_type": "code",
   "execution_count": 25,
   "metadata": {
    "ExecuteTime": {
     "end_time": "2018-06-13T19:03:13.056195Z",
     "start_time": "2018-06-13T19:00:01.825625Z"
    }
   },
   "outputs": [
    {
     "data": {
      "image/png": "[encoded data removed]",
      "text/plain": [
       "<matplotlib.figure.Figure at 0x1199a14a8>"
      ]
     },
     "metadata": {},
     "output_type": "display_data"
    },
    {
     "name": "stdout",
     "output_type": "stream",
     "text": [
      "Report:\n",
      "=======\n",
      "Max average accuracy: 0.8474\n",
      "Var of accuracy at optimal parameter: 0.0000\n",
      "Optimal parameter: 0.4490\n",
      "1.25 x PCC: 0.7826\n",
      "Total iterations: 3\n"
     ]
    }
   ],
   "source": [
    "params = np.linspace(0.0001, 1, 50)\n",
    "a, p_optimal = ml_class(X, y, ml_type='svc', show_PCC=True,\n",
    "                        param_range=params, seed_settings=range(0, 3),\n",
    "                        plot=True, report=True, penalty='l1')"
   ]
  },
  {
   "cell_type": "markdown",
   "metadata": {},
   "source": [
    "Similarly with logistic regression, the feature coefficients in SVC can be thought of as the weights on each feature. The larger the weight, the more influential that feature is on the classification. The chart below shows the coefficient values vs the index of the feature for SVC using optimal C determined above. Notice that some of the coefficients have become 0."
   ]
  },
  {
   "cell_type": "code",
   "execution_count": 26,
   "metadata": {
    "ExecuteTime": {
     "end_time": "2018-06-13T19:03:13.604290Z",
     "start_time": "2018-06-13T19:03:13.059357Z"
    }
   },
   "outputs": [
    {
     "data": {
      "image/png": "[encoded data removed]",
      "text/plain": [
       "<matplotlib.figure.Figure at 0x1199e69b0>"
      ]
     },
     "metadata": {},
     "output_type": "display_data"
    }
   ],
   "source": [
    "# split data into test and training sets\n",
    "X_train, X_test, y_train, y_test = train_test_split(X, y, random_state=0)\n",
    "clf = LinearSVC(C=p_optimal, penalty='l1', dual=False)\n",
    "clf.fit(X_train, y_train)\n",
    "\n",
    "a = [i for i in clf.coef_[0]]\n",
    "\n",
    "plt.figure(figsize=(10, 4))\n",
    "plt.plot(a, marker='o', linestyle='none')\n",
    "plt.title(\"Values of Feature Coefficients\")\n",
    "plt.ylabel(\"Coefficient value\")\n",
    "plt.xlabel(\"Feature Index\")\n",
    "\n",
    "plt.plot([0, 100], [0, 0])\n",
    "plt.margins(0.05)\n",
    "\n",
    "plt.show()"
   ]
  },
  {
   "cell_type": "markdown",
   "metadata": {},
   "source": [
    "Three of the five features with most positive coefficients are about educational attainment. Two of the features with most negative coefficients are about work class. Another feature is about having an occupation as a private house servant. The most negative coefficient corresponds to having preschool education."
   ]
  },
  {
   "cell_type": "code",
   "execution_count": 27,
   "metadata": {
    "ExecuteTime": {
     "end_time": "2018-06-13T19:03:13.661400Z",
     "start_time": "2018-06-13T19:03:13.607290Z"
    }
   },
   "outputs": [
    {
     "name": "stdout",
     "output_type": "stream",
     "text": [
      "No. of Features Selected: 91 out of 103 features\n",
      "Top five features with positive coefficients:\n"
     ]
    },
    {
     "data": {
      "text/html": [
       "<div>\n",
       "<style scoped>\n",
       "    .dataframe tbody tr th:only-of-type {\n",
       "        vertical-align: middle;\n",
       "    }\n",
       "\n",
       "    .dataframe tbody tr th {\n",
       "        vertical-align: top;\n",
       "    }\n",
       "\n",
       "    .dataframe thead th {\n",
       "        text-align: right;\n",
       "    }\n",
       "</style>\n",
       "<table border=\"1\" class=\"dataframe\">\n",
       "  <thead>\n",
       "    <tr style=\"text-align: right;\">\n",
       "      <th></th>\n",
       "      <th>index</th>\n",
       "      <th>Index</th>\n",
       "      <th>Coefficients</th>\n",
       "      <th>Features</th>\n",
       "    </tr>\n",
       "  </thead>\n",
       "  <tbody>\n",
       "    <tr>\n",
       "      <th>0</th>\n",
       "      <td>23</td>\n",
       "      <td>26</td>\n",
       "      <td>0.521313</td>\n",
       "      <td>education_ Prof-school</td>\n",
       "    </tr>\n",
       "    <tr>\n",
       "      <th>1</th>\n",
       "      <td>19</td>\n",
       "      <td>22</td>\n",
       "      <td>0.516896</td>\n",
       "      <td>education_ Doctorate</td>\n",
       "    </tr>\n",
       "    <tr>\n",
       "      <th>2</th>\n",
       "      <td>26</td>\n",
       "      <td>29</td>\n",
       "      <td>0.458561</td>\n",
       "      <td>marital-status_ Married-AF-spouse</td>\n",
       "    </tr>\n",
       "    <tr>\n",
       "      <th>3</th>\n",
       "      <td>51</td>\n",
       "      <td>54</td>\n",
       "      <td>0.333452</td>\n",
       "      <td>relationship_ Wife</td>\n",
       "    </tr>\n",
       "    <tr>\n",
       "      <th>4</th>\n",
       "      <td>21</td>\n",
       "      <td>24</td>\n",
       "      <td>0.311183</td>\n",
       "      <td>education_ Masters</td>\n",
       "    </tr>\n",
       "  </tbody>\n",
       "</table>\n",
       "</div>"
      ],
      "text/plain": [
       "   index  Index  Coefficients                           Features\n",
       "0     23     26      0.521313             education_ Prof-school\n",
       "1     19     22      0.516896               education_ Doctorate\n",
       "2     26     29      0.458561  marital-status_ Married-AF-spouse\n",
       "3     51     54      0.333452                 relationship_ Wife\n",
       "4     21     24      0.311183                 education_ Masters"
      ]
     },
     "metadata": {},
     "output_type": "display_data"
    },
    {
     "name": "stdout",
     "output_type": "stream",
     "text": [
      "Top five features with negative coefficients:\n"
     ]
    },
    {
     "data": {
      "text/html": [
       "<div>\n",
       "<style scoped>\n",
       "    .dataframe tbody tr th:only-of-type {\n",
       "        vertical-align: middle;\n",
       "    }\n",
       "\n",
       "    .dataframe tbody tr th {\n",
       "        vertical-align: top;\n",
       "    }\n",
       "\n",
       "    .dataframe thead th {\n",
       "        text-align: right;\n",
       "    }\n",
       "</style>\n",
       "<table border=\"1\" class=\"dataframe\">\n",
       "  <thead>\n",
       "    <tr style=\"text-align: right;\">\n",
       "      <th></th>\n",
       "      <th>index</th>\n",
       "      <th>Index</th>\n",
       "      <th>Coefficients</th>\n",
       "      <th>Features</th>\n",
       "    </tr>\n",
       "  </thead>\n",
       "  <tbody>\n",
       "    <tr>\n",
       "      <th>86</th>\n",
       "      <td>63</td>\n",
       "      <td>67</td>\n",
       "      <td>-0.641504</td>\n",
       "      <td>native-country_ Dominican-Republic</td>\n",
       "    </tr>\n",
       "    <tr>\n",
       "      <th>87</th>\n",
       "      <td>6</td>\n",
       "      <td>9</td>\n",
       "      <td>-0.714019</td>\n",
       "      <td>workclass_ Self-emp-not-inc</td>\n",
       "    </tr>\n",
       "    <tr>\n",
       "      <th>88</th>\n",
       "      <td>40</td>\n",
       "      <td>43</td>\n",
       "      <td>-0.749236</td>\n",
       "      <td>occupation_ Priv-house-serv</td>\n",
       "    </tr>\n",
       "    <tr>\n",
       "      <th>89</th>\n",
       "      <td>8</td>\n",
       "      <td>11</td>\n",
       "      <td>-1.067590</td>\n",
       "      <td>workclass_ Without-pay</td>\n",
       "    </tr>\n",
       "    <tr>\n",
       "      <th>90</th>\n",
       "      <td>22</td>\n",
       "      <td>25</td>\n",
       "      <td>-2.811633</td>\n",
       "      <td>education_ Preschool</td>\n",
       "    </tr>\n",
       "  </tbody>\n",
       "</table>\n",
       "</div>"
      ],
      "text/plain": [
       "    index  Index  Coefficients                            Features\n",
       "86     63     67     -0.641504  native-country_ Dominican-Republic\n",
       "87      6      9     -0.714019         workclass_ Self-emp-not-inc\n",
       "88     40     43     -0.749236         occupation_ Priv-house-serv\n",
       "89      8     11     -1.067590              workclass_ Without-pay\n",
       "90     22     25     -2.811633                education_ Preschool"
      ]
     },
     "metadata": {},
     "output_type": "display_data"
    }
   ],
   "source": [
    "inds = []\n",
    "coefs = []\n",
    "for i in range(len(a)):\n",
    "    if abs(a[i]) > 0.001:\n",
    "        inds.append(i)\n",
    "        coefs.append(a[i])\n",
    "\n",
    "feats = [X.columns[i] for i in inds]\n",
    "feats_ = pd.Series(feats, name='Features')\n",
    "inds_ = pd.Series(inds, name='Index')\n",
    "coefs_ = pd.Series(coefs, name='Coefficients')\n",
    "\n",
    "_ = pd.concat([inds_, coefs_, feats_], axis=1)\n",
    "_ = _.sort_values(by='Coefficients', ascending=False).reset_index()\n",
    "\n",
    "\n",
    "print(\"No. of Features Selected: {} out of {} features\".format(len(feats_),\n",
    "                                                               len(X.columns)))\n",
    "print(\"Top five features with positive coefficients:\")\n",
    "display(_.head(5))\n",
    "print(\"Top five features with negative coefficients:\")\n",
    "display(_.tail(5))"
   ]
  },
  {
   "cell_type": "markdown",
   "metadata": {},
   "source": [
    "## Results\n",
    "Using all 103 features in the dataset yielded accuracy barely above the PCC when kNN is used. Significantly higher accuracies were obtained using logistic regression or SVC.\n",
    "\n",
    "For both logistic regression and SVC, the top predictors (though hardly sufficient) are whether or not the person is a professor, or a doctorate degree holder, or a masters degree holder. The proportion of professors, PhD holders, and masters degree holders are higher in the high income class than in the low income class. A possible interpretation here is on the average, the higher the educational attainment, the more likely is the person to earn more than 50,000 USD annually.\n",
    "\n",
    "Among the three classifiers used, logistic regression was most accurate and also the fastest to run. The table below summarizes the accuracies and optimal parameters for the three classification models. The models were run on all features. The minimum target accuracy is 78%.\n",
    "\n",
    "|Model|Model Parameter|Parameter Value|Maximum Ave. Accuracy|\n",
    "|:-:|:-:|:-:|:-:|\n",
    "|kNN|k|8|0.7829|\n",
    "|Logistic Regression|C|0.2347|0.8483|\n",
    "|Linear SVC|C|0.4490|0.8474|\n",
    "\n",
    "Note that because more than 90% of the observations are from the US, the results may not be generalizeable for other populations.\n"
   ]
  },
  {
   "cell_type": "markdown",
   "metadata": {},
   "source": [
    "## References and Acknowledgements\n",
    "I would like to acknowledge Professor Christopher P. Monterola whose Python codes were the foundation of some of the codes used for this analysis.\n",
    "<br>Dataset was downloaded from: https://archive.ics.uci.edu/ml/datasets/census+income"
   ]
  },
  {
   "cell_type": "code",
   "execution_count": null,
   "metadata": {},
   "outputs": [],
   "source": []
  }
 ],
 "metadata": {
  "hide_input": false,
  "kernelspec": {
   "display_name": "Python 3",
   "language": "python",
   "name": "python3"
  },
  "language_info": {
   "codemirror_mode": {
    "name": "ipython",
    "version": 3
   },
   "file_extension": ".py",
   "mimetype": "text/x-python",
   "name": "python",
   "nbconvert_exporter": "python",
   "pygments_lexer": "ipython3",
   "version": "3.6.4"
  },
  "latex_envs": {
   "LaTeX_envs_menu_present": true,
   "autoclose": false,
   "autocomplete": true,
   "bibliofile": "biblio.bib",
   "cite_by": "apalike",
   "current_citInitial": 1,
   "eqLabelWithNumbers": true,
   "eqNumInitial": 1,
   "hotkeys": {
    "equation": "Ctrl-E",
    "itemize": "Ctrl-I"
   },
   "labels_anchors": false,
   "latex_user_defs": false,
   "report_style_numbering": false,
   "user_envs_cfg": false
  }
 },
 "nbformat": 4,
 "nbformat_minor": 2
}
